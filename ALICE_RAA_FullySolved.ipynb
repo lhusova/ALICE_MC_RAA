{
 "cells": [
  {
   "cell_type": "markdown",
   "metadata": {},
   "source": [
    "# ALICE Masterclasses R$_{AA}$"
   ]
  },
  {
   "cell_type": "markdown",
   "metadata": {},
   "source": [
    "Načítanie potrebných knižníc"
   ]
  },
  {
   "cell_type": "code",
   "execution_count": 14,
   "metadata": {},
   "outputs": [],
   "source": [
    "import ALICE_RAA_Tools as at\n",
    "import matplotlib.pyplot as plt\n",
    "import matplotlib as mpl\n",
    "import pandas as pd\n",
    "import numpy as np\n",
    "from matplotlib import colors as mcolors"
   ]
  },
  {
   "cell_type": "markdown",
   "metadata": {},
   "source": [
    "Zoznam dostupných centralít:\n",
    " \n",
    "0-5%, 0-10%, 5-10%, 10-20%, 20-30%, 30-40%, 40-50%, 50-60%, 60-70%, 70-80%, 80-90%\n",
    "    "
   ]
  },
  {
   "cell_type": "code",
   "execution_count": 2,
   "metadata": {},
   "outputs": [],
   "source": [
    "listCentralities = [(0,5),(5,10),(10,20),(20,30),(30,40),(40,50),(50,60),(60,70),(70,80)]"
   ]
  },
  {
   "cell_type": "markdown",
   "metadata": {},
   "source": [
    "Vytvorenie slovníkov"
   ]
  },
  {
   "cell_type": "code",
   "execution_count": 3,
   "metadata": {},
   "outputs": [
    {
     "name": "stdout",
     "output_type": "stream",
     "text": [
      "processing centrality range: 0-5% - (0/5)\n",
      "processing centrality range: 5-10% - (5/10)\n",
      "processing centrality range: 10-20% - (10/20)\n",
      "processing centrality range: 20-30% - (20/30)\n",
      "processing centrality range: 30-40% - (30/40)\n",
      "processing centrality range: 40-50% - (40/50)\n",
      "processing centrality range: 50-60% - (50/60)\n",
      "processing centrality range: 60-70% - (60/70)\n",
      "processing centrality range: 70-80% - (70/80)\n"
     ]
    }
   ],
   "source": [
    "dictCentralities = at.create_dictionary(listCentralities)"
   ]
  },
  {
   "cell_type": "markdown",
   "metadata": {},
   "source": [
    "# 1. Analýza zrážok / eventov"
   ]
  },
  {
   "cell_type": "markdown",
   "metadata": {},
   "source": [
    "### 1.1 Načítanie zrážok"
   ]
  },
  {
   "cell_type": "markdown",
   "metadata": {},
   "source": [
    "Počítanie zrážok"
   ]
  },
  {
   "cell_type": "code",
   "execution_count": 4,
   "metadata": {},
   "outputs": [
    {
     "name": "stdout",
     "output_type": "stream",
     "text": [
      "Number of events: '118909'!\n"
     ]
    }
   ],
   "source": [
    "event_lines = at.count_lines('event_information.csv')\n",
    "print(\"Number of events: '\" + str(event_lines) + \"'!\")"
   ]
  },
  {
   "cell_type": "markdown",
   "metadata": {},
   "source": [
    "Načítanie informácií o zrážke z CVS súboru"
   ]
  },
  {
   "cell_type": "code",
   "execution_count": 5,
   "metadata": {
    "scrolled": true
   },
   "outputs": [],
   "source": [
    "df_events = pd.read_csv(\"event_information.csv\", header=None, names=['eventMult', 'eventCent'])"
   ]
  },
  {
   "cell_type": "code",
   "execution_count": 6,
   "metadata": {},
   "outputs": [
    {
     "name": "stdout",
     "output_type": "stream",
     "text": [
      "   eventMult  eventCent\n",
      "0          4   100.0000\n",
      "1          1    88.2660\n",
      "2        275    41.6756\n",
      "3        449    23.1375\n",
      "4        267    42.8638\n"
     ]
    }
   ],
   "source": [
    "print(df_events.head())"
   ]
  },
  {
   "cell_type": "markdown",
   "metadata": {},
   "source": [
    "### 1.2 Spracovanie dát"
   ]
  },
  {
   "cell_type": "markdown",
   "metadata": {},
   "source": [
    "Pridanie stĺpcov do tabuľky s dátami pre každú centralitu"
   ]
  },
  {
   "cell_type": "code",
   "execution_count": 7,
   "metadata": {},
   "outputs": [
    {
     "name": "stdout",
     "output_type": "stream",
     "text": [
      "   eventMult  eventCent    0-5   5-10  10-20  20-30  30-40  40-50  50-60  \\\n",
      "0          4   100.0000  False  False  False  False  False  False  False   \n",
      "1          1    88.2660  False  False  False  False  False  False  False   \n",
      "2        275    41.6756  False  False  False  False  False  False  False   \n",
      "3        449    23.1375  False  False  False  False  False  False  False   \n",
      "4        267    42.8638  False  False  False  False  False  False  False   \n",
      "\n",
      "   60-70  70-80  \n",
      "0  False  False  \n",
      "1  False  False  \n",
      "2  False  False  \n",
      "3  False  False  \n",
      "4  False  False  \n"
     ]
    }
   ],
   "source": [
    "for key in dictCentralities:\n",
    "    df_events[key] = False\n",
    "\n",
    "print(df_events.head())"
   ]
  },
  {
   "cell_type": "markdown",
   "metadata": {},
   "source": [
    "Naplnenie informácie o centralite a určenie počtu zrážok pre jeden centralitný interval"
   ]
  },
  {
   "cell_type": "code",
   "execution_count": 8,
   "metadata": {},
   "outputs": [
    {
     "name": "stdout",
     "output_type": "stream",
     "text": [
      "   eventMult  eventCent    0-5   5-10  10-20  20-30  30-40  40-50  50-60  \\\n",
      "0          4   100.0000  False  False  False  False  False  False  False   \n",
      "1          1    88.2660  False  False  False  False  False  False  False   \n",
      "2        275    41.6756  False  False  False  False  False   True  False   \n",
      "3        449    23.1375  False  False  False   True  False  False  False   \n",
      "4        267    42.8638  False  False  False  False  False   True  False   \n",
      "\n",
      "   60-70  70-80  \n",
      "0  False  False  \n",
      "1  False  False  \n",
      "2  False  False  \n",
      "3  False  False  \n",
      "4  False  False  \n",
      "{'40-50': 12073, '20-30': 12202, '60-70': 12102, '50-60': 12144, '30-40': 12116, '0-5': 5984, '5-10': 6107, '10-20': 12040, '70-80': 12247}\n"
     ]
    }
   ],
   "source": [
    "dictEventsCent = {}\n",
    "for row in df_events.iterrows():\n",
    "    keys = at.find_centralities(dictCentralities, row[1]['eventCent'])\n",
    "    if keys:\n",
    "        for cent in keys:\n",
    "            df_events.loc[row[0], cent] = True\n",
    "            if cent in dictEventsCent:\n",
    "                dictEventsCent[cent] += 1\n",
    "            else:\n",
    "                dictEventsCent[cent] = 1\n",
    "                \n",
    "print(df_events.head())\n",
    "print(dictEventsCent)"
   ]
  },
  {
   "cell_type": "markdown",
   "metadata": {},
   "source": [
    "### 1.3 Zobrazenie výsledkov"
   ]
  },
  {
   "cell_type": "markdown",
   "metadata": {},
   "source": [
    "Vytvorenie a zobrazenie histogramov počtu častíc v zrážke"
   ]
  },
  {
   "cell_type": "code",
   "execution_count": 9,
   "metadata": {},
   "outputs": [],
   "source": [
    "hTPC_0_100, bins = at.create_event_histos(df_events['eventMult'])\n",
    "hTPC_0_5, bins = at.create_event_histos(df_events[df_events['0-5'] == True]['eventMult'])\n",
    "hTPC_5_10, bins = at.create_event_histos(df_events[df_events['5-10'] == True]['eventMult'])\n",
    "hTPC_10_20, bins = at.create_event_histos(df_events[df_events['10-20'] == True]['eventMult'])\n",
    "hTPC_20_30, bins = at.create_event_histos(df_events[df_events['20-30'] == True]['eventMult'])\n",
    "hTPC_30_40, bins = at.create_event_histos(df_events[df_events['30-40'] == True]['eventMult'])\n",
    "hTPC_40_50, bins = at.create_event_histos(df_events[df_events['40-50'] == True]['eventMult'])\n",
    "hTPC_50_60, bins = at.create_event_histos(df_events[df_events['50-60'] == True]['eventMult'])\n",
    "hTPC_60_70, bins = at.create_event_histos(df_events[df_events['60-70'] == True]['eventMult'])\n",
    "hTPC_70_80, bins = at.create_event_histos(df_events[df_events['70-80'] == True]['eventMult'])"
   ]
  },
  {
   "cell_type": "code",
   "execution_count": 11,
   "metadata": {},
   "outputs": [],
   "source": [
    "hTPC_0_100_err = np.sqrt(hTPC_0_100)\n",
    "hTPC_0_5_err = np.sqrt(hTPC_0_5)\n",
    "hTPC_5_10_err = np.sqrt(hTPC_5_10)\n",
    "hTPC_10_20_err = np.sqrt(hTPC_10_20)\n",
    "hTPC_20_30_err = np.sqrt(hTPC_20_30)\n",
    "hTPC_30_40_err = np.sqrt(hTPC_30_40)\n",
    "hTPC_40_50_err = np.sqrt(hTPC_40_50)\n",
    "hTPC_50_60_err = np.sqrt(hTPC_50_60)\n",
    "hTPC_60_70_err = np.sqrt(hTPC_60_70)\n",
    "hTPC_70_80_err = np.sqrt(hTPC_70_80)"
   ]
  },
  {
   "cell_type": "code",
   "execution_count": 19,
   "metadata": {},
   "outputs": [
    {
     "data": {
      "image/png": "[encoded data removed]",
      "text/plain": [
       "<Figure size 640x480 with 1 Axes>"
      ]
     },
     "metadata": {},
     "output_type": "display_data"
    }
   ],
   "source": [
    "plt.errorbar(bins[:-1], hTPC_0_100, yerr=hTPC_0_100_err, marker='+', c='black', label='0-100%')\n",
    "plt.errorbar(bins[:-1], hTPC_0_5, yerr=hTPC_0_5_err, marker='+', c='darkred', label='0-5%')\n",
    "plt.errorbar(bins[:-1], hTPC_5_10, yerr=hTPC_5_10_err, marker='+', c='red', label='5-10%')\n",
    "plt.errorbar(bins[:-1], hTPC_10_20, yerr=hTPC_10_20_err, marker='+', c='darkorange', label='10-20%')\n",
    "plt.errorbar(bins[:-1], hTPC_20_30, yerr=hTPC_20_30_err, marker='+', c='gold', label='20-30%')\n",
    "plt.errorbar(bins[:-1], hTPC_30_40, yerr=hTPC_30_40_err, marker='+', c='yellowgreen', label='30-40%')\n",
    "plt.errorbar(bins[:-1], hTPC_40_50, yerr=hTPC_40_50_err, marker='+', c='mediumturquoise', label='40-50%')\n",
    "plt.errorbar(bins[:-1], hTPC_50_60, yerr=hTPC_50_60_err,  marker='+', c='deepskyblue', label='50-60%')\n",
    "plt.errorbar(bins[:-1], hTPC_60_70, yerr=hTPC_60_70_err, marker='+', c='royalblue', label='60-70%')\n",
    "plt.errorbar(bins[:-1], hTPC_70_80, yerr=hTPC_70_80_err, marker='+', c='navy', label='70-80%')\n",
    "#pre zoznam možných nastavení 'fmt' pozrite stránku:\n",
    "#https://matplotlib.org/3.1.1/api/_as_gen/matplotlib.pyplot.plot.html#matplotlib.pyplot.plot\n",
    "\n",
    "plt.xlabel('Number of TPC tracks')\n",
    "plt.ylabel('Counts')\n",
    "plt.ylim(1,2E4)\n",
    "plt.yscale('log')\n",
    "\n",
    "plt.legend(loc='upper right')\n",
    "plt.savefig('TPC_tracks.pdf')"
   ]
  },
  {
   "cell_type": "markdown",
   "metadata": {},
   "source": [
    "2D-obrázok: Počet častíc v zrážke vs. centralita"
   ]
  },
  {
   "cell_type": "code",
   "execution_count": 1,
   "metadata": {},
   "outputs": [
    {
     "ename": "NameError",
     "evalue": "name 'plt' is not defined",
     "output_type": "error",
     "traceback": [
      "\u001b[0;31m---------------------------------------------------------------------------\u001b[0m",
      "\u001b[0;31mNameError\u001b[0m                                 Traceback (most recent call last)",
      "Cell \u001b[0;32mIn[1], line 1\u001b[0m\n\u001b[0;32m----> 1\u001b[0m \u001b[43mplt\u001b[49m\u001b[38;5;241m.\u001b[39mhist2d(df_events[\u001b[38;5;124m'\u001b[39m\u001b[38;5;124meventCent\u001b[39m\u001b[38;5;124m'\u001b[39m],df_events[\u001b[38;5;124m'\u001b[39m\u001b[38;5;124meventMult\u001b[39m\u001b[38;5;124m'\u001b[39m], bins\u001b[38;5;241m=\u001b[39m(\u001b[38;5;241m100\u001b[39m,\u001b[38;5;241m200\u001b[39m), \u001b[38;5;28mrange\u001b[39m\u001b[38;5;241m=\u001b[39m[[\u001b[38;5;241m0\u001b[39m, \u001b[38;5;241m100\u001b[39m],[\u001b[38;5;241m0\u001b[39m, \u001b[38;5;241m2000\u001b[39m] ], cmap\u001b[38;5;241m=\u001b[39mplt\u001b[38;5;241m.\u001b[39mcm\u001b[38;5;241m.\u001b[39mjet, norm\u001b[38;5;241m=\u001b[39mmpl\u001b[38;5;241m.\u001b[39mcolors\u001b[38;5;241m.\u001b[39mLogNorm())\n\u001b[1;32m      3\u001b[0m plt\u001b[38;5;241m.\u001b[39mcolorbar()\n\u001b[1;32m      4\u001b[0m plt\u001b[38;5;241m.\u001b[39mxlabel(\u001b[38;5;124m'\u001b[39m\u001b[38;5;124mCentrality\u001b[39m\u001b[38;5;124m'\u001b[39m)\n",
      "\u001b[0;31mNameError\u001b[0m: name 'plt' is not defined"
     ]
    }
   ],
   "source": [
    "plt.hist2d(df_events['eventCent'],df_events['eventMult'], bins=(100,200), range=[[0, 100],[0, 2000] ], cmap=plt.cm.jet, norm=mpl.colors.LogNorm())\n",
    "\n",
    "plt.colorbar()\n",
    "plt.xlabel('Centrality')\n",
    "plt.ylabel('Number TPC tracks')\n"
   ]
  },
  {
   "cell_type": "markdown",
   "metadata": {},
   "source": [
    "# 2. Dráhy častíc a hybnostné spektrá "
   ]
  },
  {
   "cell_type": "markdown",
   "metadata": {},
   "source": [
    "Zoznam dostupných centralít: \n",
    "0-5%, 0-10%, 5-10%, 10-20%, 20-30%, 30-40%, 40-50%, 50-60%, 60-70%, 70-80%, 80-90%"
   ]
  },
  {
   "cell_type": "markdown",
   "metadata": {},
   "source": [
    "## 2.1 Načítanie dát pre zrážky olovo-olovo"
   ]
  },
  {
   "cell_type": "code",
   "execution_count": 21,
   "metadata": {},
   "outputs": [
    {
     "name": "stdout",
     "output_type": "stream",
     "text": [
      "Number of tracks: '38042122'! ~600MB )\n"
     ]
    }
   ],
   "source": [
    "print(\"Number of tracks: '38042122'! ~600MB )\")"
   ]
  },
  {
   "cell_type": "code",
   "execution_count": 22,
   "metadata": {},
   "outputs": [],
   "source": [
    "dictMomCent = {}\n",
    "for key in dictCentralities:\n",
    "    dictMomCent[key] = []"
   ]
  },
  {
   "cell_type": "code",
   "execution_count": 23,
   "metadata": {},
   "outputs": [],
   "source": [
    "df_tracks = pd.read_pickle(\"./track_info.pkl\", 'bz2').to_numpy()"
   ]
  },
  {
   "cell_type": "markdown",
   "metadata": {},
   "source": [
    "### 2.2 Triedenie podľa centrality zrážky"
   ]
  },
  {
   "cell_type": "markdown",
   "metadata": {},
   "source": [
    "Nasledujúca bunka je výpočtovo náročnejšia, trvá dlhšie."
   ]
  },
  {
   "cell_type": "code",
   "execution_count": null,
   "metadata": {},
   "outputs": [],
   "source": [
    "for line in df_tracks:\n",
    "    keys = at.find_centralities(dictCentralities, line[1])\n",
    "    if keys:\n",
    "        for key in keys:\n",
    "            dictMomCent[key].append(line[0])"
   ]
  },
  {
   "cell_type": "markdown",
   "metadata": {},
   "source": [
    "### 2.3 Vytvorenie histogramov "
   ]
  },
  {
   "cell_type": "code",
   "execution_count": null,
   "metadata": {},
   "outputs": [],
   "source": [
    "binsPt = at.get_bins()\n",
    "binWidth = at.get_bin_width(binsPt)\n",
    "x_bin_width = np.asarray(binWidth)/2"
   ]
  },
  {
   "cell_type": "code",
   "execution_count": null,
   "metadata": {},
   "outputs": [],
   "source": [
    "hPbPb_0_5, _ = np.histogram(dictMomCent['0-5'], binsPt)\n",
    "hPbPb_0_5_err = np.sqrt(hPbPb_0_5) / dictEventsCent['0-5']\n",
    "hPbPb_0_5 = hPbPb_0_5 / binWidth\n",
    "hPbPb_0_5 = hPbPb_0_5 / dictEventsCent['0-5']\n",
    "\n",
    "hPbPb_5_10, _ = np.histogram(dictMomCent['5-10'], binsPt)\n",
    "hPbPb_5_10_err = np.sqrt(hPbPb_5_10) / dictEventsCent['5-10']\n",
    "hPbPb_5_10 = hPbPb_5_10 / binWidth\n",
    "hPbPb_5_10 = hPbPb_5_10 / dictEventsCent['5-10']\n",
    "\n",
    "hPbPb_10_20, _ = np.histogram(dictMomCent['10-20'], binsPt)\n",
    "hPbPb_10_20_err = np.sqrt(hPbPb_10_20) / dictEventsCent['10-20']\n",
    "hPbPb_10_20 = hPbPb_10_20 / binWidth\n",
    "hPbPb_10_20 = hPbPb_10_20 / dictEventsCent['10-20']\n",
    "\n",
    "hPbPb_20_30, _ = np.histogram(dictMomCent['20-30'], binsPt)\n",
    "hPbPb_20_30_err = np.sqrt(hPbPb_20_30) / dictEventsCent['20-30']\n",
    "hPbPb_20_30 = hPbPb_20_30 / binWidth\n",
    "hPbPb_20_30 = hPbPb_20_30 / dictEventsCent['20-30']\n",
    "\n",
    "hPbPb_30_40, _ = np.histogram(dictMomCent['30-40'], binsPt)\n",
    "hPbPb_30_40_err = np.sqrt(hPbPb_70_80) / dictEventsCent['30-40']\n",
    "hPbPb_30_40 = hPbPb_30_40 / binWidth\n",
    "hPbPb_30_40 = hPbPb_30_40 / dictEventsCent['30-40']\n",
    "\n",
    "hPbPb_40_50, _ = np.histogram(dictMomCent['40-50'], binsPt)\n",
    "hPbPb_40_50_err = np.sqrt(hPbPb_40_50) / dictEventsCent['40-50']\n",
    "hPbPb_40_50 = hPbPb_40_50 / binWidth\n",
    "hPbPb_40_50 = hPbPb_40_50 / dictEventsCent['40-50']\n",
    "\n",
    "hPbPb_50_60, _ = np.histogram(dictMomCent['50-60'], binsPt)\n",
    "hPbPb_50_60_err = np.sqrt(hPbPb_50_60) / dictEventsCent['50-60']\n",
    "hPbPb_50_60 = hPbPb_50_60 / binWidth\n",
    "hPbPb_50_60 = hPbPb_50_60 / dictEventsCent['50-60']\n",
    "\n",
    "hPbPb_60_70, _ = np.histogram(dictMomCent['60-70'], binsPt)\n",
    "hPbPb_60_70_err = np.sqrt(hPbPb_60_70) / dictEventsCent['60-70']\n",
    "hPbPb_60_70 = hPbPb_60_70 / binWidth\n",
    "hPbPb_60_70 = hPbPb_60_70 / dictEventsCent['10-20']\n",
    "\n",
    "hPbPb_70_80, _ = np.histogram(dictMomCent['70-80'], binsPt)\n",
    "hPbPb_70_80_err = np.sqrt(hPbPb_70_80) / dictEventsCent['70-80']\n",
    "hPbPb_70_80 = hPbPb_70_80 / binWidth\n",
    "hPbPb_70_80 = hPbPb_70_80 / dictEventsCent['70-80']"
   ]
  },
  {
   "cell_type": "markdown",
   "metadata": {},
   "source": [
    "### 2.4 Načítanie dát referenčných zrážok protón-protón"
   ]
  },
  {
   "cell_type": "code",
   "execution_count": null,
   "metadata": {},
   "outputs": [],
   "source": [
    "pp = np.genfromtxt('pp_reference.dat')\n",
    "print(pp)\n",
    "pp_err = np.divide(pp,10) #Predpoklad: 10% chyba pre meranie v pp zrážkach"
   ]
  },
  {
   "cell_type": "markdown",
   "metadata": {},
   "source": [
    "### 2.5 Zobrazenie spektier priečnej hybnosti pre nabité častice "
   ]
  },
  {
   "cell_type": "code",
   "execution_count": null,
   "metadata": {},
   "outputs": [],
   "source": [
    "plt.errorbar(binsPt[:-1], hPbPb_0_5, xerr=x_bin_width, yerr=hPbPb_0_5_err, marker='+', c='darkred', label='0-5%')\n",
    "plt.errorbar(binsPt[:-1], hPbPb_5_10, xerr=x_bin_width, yerr=hPbPb_5_10_err, marker='+', c='red', label='5-10%')\n",
    "plt.errorbar(binsPt[:-1], hPbPb_10_20, xerr=x_bin_width, yerr=hPbPb_10_20_err, marker='+', c='darkorange', label='10-20%')\n",
    "plt.errorbar(binsPt[:-1], hPbPb_20_30, xerr=x_bin_width, yerr=hPbPb_20_30_err, marker='+', c='gold', label='20-30%')\n",
    "plt.errorbar(binsPt[:-1], hPbPb_30_40, xerr=x_bin_width, yerr=hPbPb_30_40_err, marker='+', c='yellowgreen', label='30-40%')\n",
    "plt.errorbar(binsPt[:-1], hPbPb_40_50, xerr=x_bin_width, yerr=hPbPb_40_50_err, marker='+', c='mediumturquoise', label='40-50%')\n",
    "plt.errorbar(binsPt[:-1], hPbPb_50_60, xerr=x_bin_width, yerr=hPbPb_50_60_err, marker='+', c='deepskyblue', label='50-60%')\n",
    "plt.errorbar(binsPt[:-1], hPbPb_60_70, xerr=x_bin_width, yerr=hPbPb_60_70_err, marker='+', c='royalblue', label='60-70%')\n",
    "plt.errorbar(binsPt[:-1], hPbPb_70_80, xerr=x_bin_width, yerr=hPbPb_70_80_err, marker='+', c='navy', label='70-80%')\n",
    "plt.errorbar(binsPt[:-1], pp,          xerr=x_bin_width, yerr=pp_err,          marker='+', c='black', label='pp')\n",
    "\n",
    "plt.xscale('log')\n",
    "plt.yscale('log')\n",
    "plt.xlim(0.1, 20)\n",
    "plt.ylim(1E-6, 1E4)\n",
    "\n",
    "plt.xlabel('$p_{T}$')\n",
    "plt.ylabel('Counts')\n",
    "plt.legend(loc='upper right')\n",
    "plt.show()"
   ]
  },
  {
   "cell_type": "markdown",
   "metadata": {},
   "source": [
    "### 2.6 Definícia centralitných tried"
   ]
  },
  {
   "cell_type": "markdown",
   "metadata": {},
   "source": [
    "Definícia počtu zrážok pre jednotlivé centralitné triedy"
   ]
  },
  {
   "cell_type": "code",
   "execution_count": null,
   "metadata": {},
   "outputs": [],
   "source": [
    "dictNColl = {'0-5': 1686.87,\n",
    "             '0-10': 1502.7,\n",
    "             '5-10': 1319.89,\n",
    "             '10-20': 923.89,\n",
    "             '20-30': 558.68,\n",
    "             '30-40': 321.20,\n",
    "             '40-50': 171.67,\n",
    "             '50-60': 85.13,\n",
    "             '60-70': 38.51,\n",
    "             '70-80': 15.78,\n",
    "             '80-90': 6.32,\n",
    "             'pp':1.\n",
    "            }\n",
    "\n",
    "print(dictNColl)"
   ]
  },
  {
   "cell_type": "markdown",
   "metadata": {},
   "source": [
    "### 2.7 Výpočet a zobrazenie pomeru R$_\\text{AA}$"
   ]
  },
  {
   "cell_type": "code",
   "execution_count": null,
   "metadata": {},
   "outputs": [],
   "source": [
    "RAA_0_5 = np.divide(hPbPb_0_5 / dictNColl['0-5'], pp)\n",
    "RAA_5_10 = np.divide(hPbPb_5_10 / dictNColl['5-10'], pp)\n",
    "RAA_10_20 = np.divide(hPbPb_10_20 / dictNColl['10-80'], pp)\n",
    "RAA_20_30 = np.divide(hPbPb_20_30 / dictNColl['20-30'], pp)\n",
    "RAA_30_40 = np.divide(hPbPb_30_40 / dictNColl['30-40'], pp)\n",
    "RAA_40_50 = np.divide(hPbPb_40_50 / dictNColl['40-50'], pp)\n",
    "RAA_50_60 = np.divide(hPbPb_50_60 / dictNColl['50-60'], pp)\n",
    "RAA_60_70 = np.divide(hPbPb_60_70 / dictNColl['60-70'], pp)\n",
    "RAA_70_80 = np.divide(hPbPb_70_80 / dictNColl['70-80'], pp)"
   ]
  },
  {
   "cell_type": "code",
   "execution_count": null,
   "metadata": {},
   "outputs": [],
   "source": [
    "RAA_0_5_err = at.uncertaintyCalculation(hPbPb_0_5, hPbPb_0_5_err, dictNColl['0-5'], pp, pp_err, dictNColl['pp'])\n",
    "RAA_5_10_err = at.uncertaintyCalculation(hPbPb_5_10, hPbPb_5_10_err, dictNColl['5-10'], pp, pp_err, dictNColl['pp'])\n",
    "RAA_10_20_err = at.uncertaintyCalculation(hPbPb_10_20, hPbPb_10_20_err, dictNColl['10-20'], pp, pp_err, dictNColl['pp'])\n",
    "RAA_20_30_err = at.uncertaintyCalculation(hPbPb_20_30, hPbPb_20_30_err, dictNColl['20-30'], pp, pp_err, dictNColl['pp'])\n",
    "RAA_30_40_err = at.uncertaintyCalculation(hPbPb_30_40, hPbPb_30_40_err, dictNColl['30-40'], pp, pp_err, dictNColl['pp'])\n",
    "RAA_40_50_err = at.uncertaintyCalculation(hPbPb_40_50, hPbPb_40_50_err, dictNColl['40-50'], pp, pp_err, dictNColl['pp'])\n",
    "RAA_50_60_err = at.uncertaintyCalculation(hPbPb_50_60, hPbPb_50_60_err, dictNColl['50-60'], pp, pp_err, dictNColl['pp'])\n",
    "RAA_60_70_err = at.uncertaintyCalculation(hPbPb_60_70, hPbPb_60_70_err, dictNColl['60-70'], pp, pp_err, dictNColl['pp'])\n",
    "RAA_70_80_err = at.uncertaintyCalculation(hPbPb_70_80, hPbPb_70_80_err, dictNColl['70-80'], pp, pp_err, dictNColl['pp'])"
   ]
  },
  {
   "cell_type": "code",
   "execution_count": null,
   "metadata": {},
   "outputs": [],
   "source": [
    "plt.errorbar(binsPt[:-1], RAA_0_5, xerr=x_bin_width, yerr=RAA_0_5_err, marker='+', c='darkred', label='0-5%')\n",
    "plt.errorbar(binsPt[:-1], RAA_5_10, xerr=x_bin_width, yerr=RAA_5_10_err, marker='+', c='red', label='5-10%')\n",
    "plt.errorbar(binsPt[:-1], RAA_10_20, xerr=x_bin_width, yerr=RAA_10_20_err, marker='+', c='darkorange', label='10-20%')\n",
    "plt.errorbar(binsPt[:-1], RAA_20_30, xerr=x_bin_width, yerr=RAA_20_30_err, marker='+', c='gold', label='20-30%')\n",
    "plt.errorbar(binsPt[:-1], RAA_30_40, xerr=x_bin_width, yerr=RAA_30_40_err, marker='+', c='yellowgreen', label='30-40%')\n",
    "plt.errorbar(binsPt[:-1], RAA_40_50, xerr=x_bin_width, yerr=RAA_40_50_err, marker='+', c='mediumturquoise', label='40-50%')\n",
    "plt.errorbar(binsPt[:-1], RAA_50_60, xerr=x_bin_width, yerr=RAA_50_60_err, marker='+', c='deepskyblue', label='50-60%')\n",
    "plt.errorbar(binsPt[:-1], RAA_60_70, xerr=x_bin_width, yerr=RAA_60_70_err, marker='+', c='royalblue', label='60-70%')\n",
    "plt.errorbar(binsPt[:-1], RAA_70_80, xerr=x_bin_width, yerr=RAA_70_80_err, marker='+', c='navy, label='70-80%')\n",
    "\n",
    "plt.ylim(0.01,1.2)\n",
    "plt.xlabel('$p_{T}$')\n",
    "plt.ylabel(r'$R_{AA}=\\frac{1/N^{AA}_{evt}dN^{AA}/dp_t}{<N_{coll}>1/N_{pp_{evt}dN^{pp}/dp_t}}$')\n",
    "plt.legend(loc='upper right')\n",
    "plt.savefig('RAA_compared.pdf')"
   ]
  },
  {
   "cell_type": "markdown",
   "metadata": {},
   "source": [
    "Výpis konkrétnej hodnoty pre jednu priečnu hybnosť"
   ]
  },
  {
   "cell_type": "code",
   "execution_count": null,
   "metadata": {},
   "outputs": [],
   "source": [
    "print(RAA_70_80[binsPt.index(1.65)])"
   ]
  },
  {
   "cell_type": "code",
   "execution_count": null,
   "metadata": {},
   "outputs": [],
   "source": []
  }
 ],
 "metadata": {
  "kernelspec": {
   "display_name": "Python 3 (ipykernel)",
   "language": "python",
   "name": "python3"
  },
  "language_info": {
   "codemirror_mode": {
    "name": "ipython",
    "version": 3
   },
   "file_extension": ".py",
   "mimetype": "text/x-python",
   "name": "python",
   "nbconvert_exporter": "python",
   "pygments_lexer": "ipython3",
   "version": "3.13.1"
  }
 },
 "nbformat": 4,
 "nbformat_minor": 4
}
