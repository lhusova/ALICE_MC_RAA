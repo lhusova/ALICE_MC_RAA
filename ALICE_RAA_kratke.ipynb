{
 "cells": [
  {
   "cell_type": "markdown",
   "id": "49c3d3aa",
   "metadata": {},
   "source": [
    "# Masterclasses Analýza dát\n",
    "\n",
    "Vitajte pri skátenej verzii výpočtu $R_{AA}$! \n",
    "\n",
    "Najprv načítame balíčky potrebné pre analýzu dát.\""
   ]
  },
  {
   "cell_type": "code",
   "execution_count": 1,
   "id": "3be5a17e",
   "metadata": {},
   "outputs": [],
   "source": [
    "import numpy as np\n",
    "import math \n",
    "import pandas as pd"
   ]
  },
  {
   "cell_type": "markdown",
   "id": "148b8494",
   "metadata": {},
   "source": [
    "Teraz môžme načítať súbor obsahujúci údaje o zrážkach olovo-olovo\n",
    " \n",
    "Štandardne sa dáta analyzujú vo frejmvorku root a sú uložené v súboroch s príponou .root. Dnes sú pre vás dáta predpripravené v tabuľke s troma sĺpcami. Prvý je id zrážky, druhý obsahuje pole priečných hybností častíc vzniknutých v danej zrážke a tretí je centralita zrážky."
   ]
  },
  {
   "cell_type": "code",
   "execution_count": null,
   "id": "fd675b75",
   "metadata": {},
   "outputs": [],
   "source": [
    "# Nasledujúce riadky načítajú dáta zo súboru. V prvom poli sú centrality a v druhom polia priečných hybností\n",
    "centralities = pd.read_csv(\"data_PbPb.csv\", usecols=['centrality'])\n",
    "tracks = pd.read_csv(\"data_PbPb.csv\", usecols=['tracks'])\n",
    "\n",
    "# Vytvoríme prázdny zoznam pre tracky\n",
    "all_tracks_list = []\n",
    "centralities_list = []\n",
    "\n",
    "for k in range(len(centralities)):\n",
    "    # Vymažeme zátvorky aby boli polia kompatibilné s Pythonom\n",
    "    alltracks = tracks.values[k][0].replace(\"[\", \"\").replace(\"]\", \"\")\n",
    "    temptrack = alltracks.split(\", \")\n",
    "    centrality = centralities.values[k][0]\n",
    "    centralities_list.append(centrality)\n",
    "\n",
    "    # Odfiltrujeme prázdne riadky\n",
    "    temptrack = [t for t in temptrack if t != '']\n",
    "    \n",
    "    # Pridáme temptrack-item do all_tracks_list\n",
    "    all_tracks_list.append(temptrack)"
   ]
  },
  {
   "cell_type": "markdown",
   "id": "f06e043b",
   "metadata": {},
   "source": [
    "# Úloha 1: \n",
    "\n",
    "## Počet trackov v danej centralite a hybnostnom intervale v Pb-Pb \n",
    "\n",
    "Teraz chceme prečítať informácie o centralitách a trackoch v špecifických intervaloch. Na to budeme používať for cykly a podmienku if.Postupujte v nasledjúcich krokoch:\n",
    "\n",
    "- Vytvorte dve premenné. Do jednej budete pripočítavať zrážky a do druhej tracky v jednotlivých zrážkach \n",
    "\n",
    "- Vytvorte for cyklus idúci cez dĺžku poľa 'centralities_list' podbne ako v hornej bunke \n",
    "\n",
    "- Uložte hodnotu centrality do novej premennej \n",
    "\n",
    "- Použijte podmienku if na výber centralít v zadanom intervale \n",
    "\n",
    "- Ak je podmienka splnená: \n",
    "\n",
    "   - Premennú na počet zrážok zvýšte o 1 \n",
    "\n",
    "   - Vytvorte nový for cyklus, ktorý pôjde cez dĺžku poľa trackov v danej zrážke (all_tracks_list[i]) \n",
    "\n",
    "   - Do premennej track_pt uložte hybnosť častice ako float \n",
    "\n",
    "   - Pomocou podmienky if skontrolujte, či sa táto hybnosť nachádza v zadanom intervale \n",
    "\n",
    "   - Ak je táto podmienka splnená pripočítajte 1 k počtu trackov \n"
   ]
  },
  {
   "cell_type": "code",
   "execution_count": null,
   "id": "580e997b",
   "metadata": {
    "solution2": "hidden",
    "solution2_first": true
   },
   "outputs": [],
   "source": []
  },
  {
   "cell_type": "markdown",
   "id": "a365cd22",
   "metadata": {},
   "source": [
    "# Úloha 1.1: \n",
    "\n",
    "## Priemerný počet trackov v danej centralite a hybnostnom intervale v Pb-Pb v jednej zrážke\n",
    "\n",
    "- Vypočítajte priemerný počet trackov v jednej zrážke z premenných v predchádzajúcej bunke a uložte to do novej premennej\n",
    "\n",
    "- Nechajte túto hodnotu vypísať \n"
   ]
  },
  {
   "cell_type": "code",
   "execution_count": null,
   "id": "d5fcca0d",
   "metadata": {},
   "outputs": [],
   "source": []
  },
  {
   "cell_type": "markdown",
   "id": "055b0cbd",
   "metadata": {},
   "source": [
    "# Úloha 2: \n",
    "\n",
    "## Počet trackov v danom hybnostnom intervale v pp \n",
    "\n",
    "- Zopakujeme veľmi podobný postup ako pre Pb-Pb, kód môžte kopírovať a meniť \n",
    "\n",
    "## Úloha 2.1: \n",
    "\n",
    "- Načítajte dáta pre zrážky pp zo súboru data_pp.csv \n",
    "\n",
    "- Vytvorte polia centralities_pp a all_tracks_list_pp \n",
    "\n",
    "- Pomocou for cyklu cez centralities_pp pridajte zoznamy trackov do all_tracks_list_pp (rovnaký kód ako pr Pb-Pb)\n",
    "\n"
   ]
  },
  {
   "cell_type": "code",
   "execution_count": null,
   "id": "d423aa23",
   "metadata": {},
   "outputs": [],
   "source": []
  },
  {
   "cell_type": "markdown",
   "id": "0cf8c6ed",
   "metadata": {},
   "source": [
    "## Úloha 2.2: \n",
    "\n",
    "- Postupujte rovnako ako v úlohe 1 \n",
    "\n",
    "- Akú centralitu treba zadať pre pp zrážky? \n",
    "\n"
   ]
  },
  {
   "cell_type": "code",
   "execution_count": null,
   "id": "2ff8d539",
   "metadata": {},
   "outputs": [],
   "source": []
  },
  {
   "cell_type": "markdown",
   "id": "fb46954d",
   "metadata": {},
   "source": [
    "# Úloha 2.3: \n",
    "\n",
    "## Priemerný počet trackov v danom hybnostnom intervale v pp v jednej zrážke\n",
    "\n",
    "- Vypočítajte priemerný počet trackov v jednej zrážke z premenných v predchádzajúcej bunke a uložte to do novej premennej (podobne ako pre Pb-Pb)\n",
    "\n",
    "- Nechajte túto hodnotu vypísať \n"
   ]
  },
  {
   "cell_type": "code",
   "execution_count": null,
   "id": "f590547f",
   "metadata": {},
   "outputs": [],
   "source": []
  },
  {
   "cell_type": "markdown",
   "id": "c56a9f69",
   "metadata": {},
   "source": [
    "# Úloha 3: \n",
    "\n",
    "## Výpočet nukleárneho modifikačného faktora $R_{AA}$\n",
    "\n",
    "Na výpočet je potrebné poznať počet nukleónových kolízií pre danú centralitnú triedu, keďže nukleárny modifikačný faktor je definovaný ako:\n",
    "<span style=\"font-family:Papyrus; font-size:2.5em;\">\n",
    "<h1><center>$R_{AA} = \\frac{Y_{PbPb}} { N_{coll} Y_{pp} } $ </center></h1>\n",
    "</span>\n",
    "Hodnoy $N_{coll}$ sú uvedené v nasledujúcej tabuľke. Použite hodnotu pre zadanú centralitnú triedu a počty trackov na jednu zrážku v PbPb a pp z úlohy 1.1 a 2.3 a vypočítajte $R_{AA}$ \n",
    "<center><img src=\"./NColl.png\"/></center>"
   ]
  },
  {
   "cell_type": "code",
   "execution_count": null,
   "id": "a27a2457",
   "metadata": {},
   "outputs": [],
   "source": []
  }
 ],
 "metadata": {
  "kernelspec": {
   "display_name": "Python 3 (ipykernel)",
   "language": "python",
   "name": "python3"
  },
  "language_info": {
   "codemirror_mode": {
    "name": "ipython",
    "version": 3
   },
   "file_extension": ".py",
   "mimetype": "text/x-python",
   "name": "python",
   "nbconvert_exporter": "python",
   "pygments_lexer": "ipython3",
   "version": "3.13.1"
  }
 },
 "nbformat": 4,
 "nbformat_minor": 5
}
