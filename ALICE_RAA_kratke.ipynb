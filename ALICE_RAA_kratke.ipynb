{
 "cells": [
  {
   "cell_type": "markdown",
   "id": "bfbe6e45-a193-4553-bb06-d139ee71ca32",
   "metadata": {},
   "source": [
    "# Masterclasses Analýza dát\n",
    "\n",
    "Vitajte pri skátenej verzii výpočtu R_{AA}! \n",
    "\n",
    "Najprv načítame balíčky potrebné pre analýzu dát.\""
   ]
  },
  {
   "cell_type": "code",
   "execution_count": 1,
   "id": "ecce698f-a798-4253-9518-dc229d5dc7c4",
   "metadata": {},
   "outputs": [],
   "source": [
    "import numpy as np\n",
    "import math \n",
    "import pandas as pd"
   ]
  },
  {
   "cell_type": "markdown",
   "id": "8139b037-7938-4993-8ef3-a8c3fdad90b2",
   "metadata": {},
   "source": [
    "Teraz môžme načítať súbor obsahujúci údaje o zrážkach olovo-olovo\n",
    " \n",
    "Štandardne sa dáta analyzujú vo frejmvorku root a sú uložené v súboroch s príponou .root. Dnes sú pre vás dáta predpripravené v tabuľke s troma sĺpcami. Prvý je id zrážky, druhý obsahuje pole priečných hybností častíc vzniknutých v danej zrážke a tretí je centralita zrážky."
   ]
  },
  {
   "cell_type": "code",
   "execution_count": null,
   "id": "ca89b9fc-6c19-425d-a326-7abb06e6a75c",
   "metadata": {},
   "outputs": [],
   "source": [
    "# Nasledujúce riadky načítajú dáta zo súboru. V prvom poli sú centrality a v druhom polia pričných hybností\n",
    "centralities = pd.read_csv(\"data_PbPb.csv\", usecols=['centrality'])\n",
    "tracks = pd.read_csv(\"data_PbPb.csv\", usecols=['tracks'])\n",
    "\n",
    "# Vytvoríme prázdny zoznam pre tracky\n",
    "all_tracks_list = []\n",
    "\n",
    "for k in range(len(centralities)):\n",
    "    # Vymažeme zátvorky aby boli polia kompatibilné s Pythonom\n",
    "    alltracks = tracks.values[k][0].replace(\"[\", \"\").replace(\"]\", \"\")\n",
    "    temptrack = alltracks.split(\", \")\n",
    "\n",
    "    # Odfiltrujeme prázdne riadky\n",
    "    temptrack = [t for t in temptrack if t != '']\n",
    "    \n",
    "    # Pridáme temptrack-item do all_tracks_list\n",
    "    all_tracks_list.append(temptrack)"
   ]
  },
  {
   "cell_type": "markdown",
   "id": "93a78e1e-3cc6-492e-a0d2-8878b2f4903f",
   "metadata": {},
   "source": [
     "Teraz chceme prečítať informácie o centralitách a trackoch v špecifických intervaloch. Na to budeme používať for cykly a podmienku if."
    "Postupujte v nasledjúcich krokoch."
   ]
  },
  {
   "cell_type": "markdown",
   "id": "73b16c32-e900-4f2c-8642-7ee298a8e164",
   "metadata": {},
   "source": [
    "- Vytvorte dve premenné. Do jednej budete pripočítavať zrážky a do druhej tracky v jednotlijvých zrážkach*\n",
    "\n",
    "- Vytvorte for cyklus idúci cez dĺžku poľa 'centralities' podbne ako v hornej bunke*\n",
    "\n",
    "- Uložte hodnotu centrality do novej premennej *\n",
    "\n",
    "- Použijte podmienku if na výber centralít v zadanom intervale*\n",
    "\n",
    "- Ak je podmienka splnená:",
    "-- Premennú na počet zrážok zvýšte o 1",
    "-- Vytvorte nový for cyklus, ktorý pôjde cez dĺžku poľa trackov v danoj zrážke (all_tracks_list[i])",
    "-- Do premennej track_pt uložte hybnosť častice ako float",
    "-- Pomocou podmienky if skontrolujte, či sa táto hybnosť nachádza v zadanom intervale",
    "-- Ak je táto podmienka splnená pripočítajte 1 k počtu trackov"
   ]
  },
  {
   "cell_type": "code",
   "execution_count": null,
   "metadata": {
    "solution2": "hidden",
    "solution2_first": true
   },
   "outputs": [],
   "source": []
  },
  {
   "cell_type": "markdown",
   "id": "93a78e1e-3cc6-492e-a0d2-8878b2f4903f",
   "metadata": {},
   "source": [
     "Ak potrebujete pomôcť tu je čiastočné riešenie:"
   ]
  },
  {
   "cell_type": "code",
   "execution_count": null,
   "metadata": {
    "solution2": "hidden"
   },
   "id": "6cb286e8-0c33-4400-916a-6e4c7b50b24a",
   "outputs": [],
   "source": [
    "# TODO: Premenná 1 pre počet zrážok\n",
    "\n",
    "# TODO: Premenná 2 pre počet trackov\n",
    "\n",
    "for i in range(len(centralities)):\n",
    "    cent = centralities.values[i]\n",
    "    if 80 < cent < 100: #výber centralitnej triedy:    \n",
    "        print(\"hello\")    \n",
    "        # TODO: Zvýšte Premennú 1 (+1)\n",
    "            \n",
    "        for l in range(len(all_tracks_list[i])):\n",
    "            \n",
    "            track_pt = float(all_tracks_list[i][l])\n",
    "            \n",
    "            # TODO: Prispôsobte pre váš špecifický interval:\n",
    "            if 0 < track_pt < 1:\n",
    "                # TODO: print() Akú priečnu hybnosť má tento track?\n",
    "                # TODO: Zvýšte Premennú 2 (+1)"
   ]
  },
  {
   "cell_type": "markdown",
   "id": "93a78e1e-3cc6-492e-a0d2-8878b2f4903f",
   "metadata": {},
   "source": [
     "Tu je celé riešenie:"
   ]
  },
  {
   "cell_type": "code",
   "execution_count": null,
   "metadata": {
    "solution2": "hidden"
   },
   "id": "6cb286e8-0c33-4400-916a-6e4c7b50b24a",
   "outputs": [],
   "source": [
     "n_events = 0\n",
     "n_tracks = 0\n",
     "\n",
     "for i in range(len(centralities)):\n",
     "    cent = centralities.values[i]\n",
     "    if 0 < cent < 10: ",
     "        n_events = n_events + 1\n",
     "            \n",
     "        for l in range(len(all_tracks_list[i])):\n",
     "            track_pt = float(all_tracks_list[i][l])\n",
     "            if 10 < track_pt < 12:\n",
     "                print(\"Priečna hybnosť: \", track_pt) \n",
     "                n_tracks = n_tracks +1"
   ]
  },
  {
   "cell_type": "code",
   "execution_count": null,
   "id": "50ad9d8a-4105-4257-82e9-9cb9681ce937",
   "metadata": {},
   "outputs": [],
   "source": []
  },
  {
   "cell_type": "code",
   "execution_count": null,
   "id": "4e87e746-9c91-4648-82aa-1b14eabaa1d4",
   "metadata": {},
   "outputs": [],
   "source": []
  },
  {
   "cell_type": "code",
   "execution_count": null,
   "id": "3caf3bd4-9f81-4788-83fe-7f44332edc7d",
   "metadata": {},
   "outputs": [],
   "source": []
  },
  {
   "cell_type": "code",
   "execution_count": null,
   "id": "2e2fa4d3-81de-4094-9c98-1a4756b93d3a",
   "metadata": {},
   "outputs": [],
   "source": []
  }
 ],
 "metadata": {
  "kernelspec": {
   "display_name": "Python 3 (ipykernel)",
   "language": "python",
   "name": "python3"
  },
  "language_info": {
   "codemirror_mode": {
    "name": "ipython",
    "version": 3
   },
   "file_extension": ".py",
   "mimetype": "text/x-python",
   "name": "python",
   "nbconvert_exporter": "python",
   "pygments_lexer": "ipython3",
   "version": "3.11.5"
  }
 },
 "nbformat": 4,
 "nbformat_minor": 5
}
