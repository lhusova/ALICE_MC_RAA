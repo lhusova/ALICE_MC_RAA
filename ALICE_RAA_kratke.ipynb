{
 "cells": [
  {
   "cell_type": "markdown",
   "id": "49c3d3aa",
   "metadata": {},
   "source": [
    "# Masterclasses Analýza dát\n",
    "\n",
    "Vitajte pri skátenej verzii výpočtu $R_{AA}$! \n",
    "\n",
    "Najprv načítame balíčky potrebné pre analýzu dát."
   ]
  },
  {
   "cell_type": "code",
   "execution_count": 1,
   "id": "3be5a17e",
   "metadata": {},
   "outputs": [],
   "source": [
    "import numpy as np\n",
    "import math \n",
    "import pandas as pd"
   ]
  },
  {
   "cell_type": "markdown",
   "id": "148b8494",
   "metadata": {},
   "source": [
    "Teraz môžeme načítať súbor obsahujúci údaje o zrážkach olovo-olovo\n",
    " \n",
    "Štandardne sa dáta analyzujú vo frameworku root a sú uložené v súboroch s príponou .root. Dnes sú pre vás dáta predpripravené v tabuľke s troma sĺpcami. Prvý je identifikačné čislo zrážky, druhý obsahuje pole priečnych hybností častíc vzniknutých v danej zrážke a tretí je centralita zrážky.\n",
    "\n",
    "Príklad dvoch riadkov:\n",
    "\n",
    "0,\"[0.351597398519516, 0.3900143802165985, 0.3029259443283081, 1.0096677541732788, 1.2998042106628418, 1.0053801536560059, 0.33100253343582153, 0.5540841817855835, 1.0337899923324585, 0.2619117200374603, 2.159311532974243, 0.1304410696029663, 0.7834312319755554]\",36.5 \n",
    "\n",
    "1,\"[0.3173491954803467, 0.933304488658905, 0.3336208462715149, 0.27811750769615173, 0.3800622820854187, 0.23552605509757996]\",65.5"
   ]
  },
  {
   "cell_type": "code",
   "execution_count": null,
   "id": "fd675b75",
   "metadata": {},
   "outputs": [],
   "source": [
    "# Nasledujúce riadky načítajú dáta zo súboru. V prvom poli sú centrality a v druhom polia priečných hybností\n",
    "centralities = pd.read_csv(\"data_PbPb.csv\", usecols=['centrality'])\n",
    "tracks = pd.read_csv(\"data_PbPb.csv\", usecols=['tracks'])\n",
    "\n",
    "# Vytvoríme prázdny zoznam pre tracky\n",
    "all_tracks_list = []\n",
    "centralities_list = []\n",
    "\n",
    "for k in range(len(centralities)):\n",
    "    # Vymažeme zátvorky aby boli polia kompatibilné s Pythonom\n",
    "    alltracks = tracks.values[k][0].replace(\"[\", \"\").replace(\"]\", \"\")\n",
    "    temptrack = alltracks.split(\", \")\n",
    "    centrality = centralities.values[k][0]\n",
    "    centralities_list.append(centrality)\n",
    "\n",
    "    # Odfiltrujeme prázdne riadky\n",
    "    temptrack = [t for t in temptrack if t != '']\n",
    "    \n",
    "    # Pridáme temptrack-item do all_tracks_list\n",
    "    all_tracks_list.append(temptrack)"
   ]
  },
  {
   "cell_type": "markdown",
   "id": "f06e043b",
   "metadata": {},
   "source": [
    "# Úloha 1: \n",
    "\n",
    "## Počet trackov v danej centralite a hybnostnom intervale v Pb-Pb \n",
    "\n",
    "Teraz chceme prečítať informácie o centralitách a trackoch v špecifických intervaloch. Na to budeme používať for cykly a podmienku if. Postupujte v nasledujúcich krokoch (Ak by ste potrebovali pomôcť, v riešeniach je aj čiastočné riešenie):\n",
    "\n",
    "- Vytvorte dve premenné. Do jednej budete pripočítavať počet zrážok a do druhej počet dráh v jednotlivých zrážkach \n",
    "\n",
    "- Vytvorte for cyklus idúci cez dĺžku poľa 'centralities_list' podobne ako v hornej bunke \n",
    "\n",
    "- Uložte hodnotu centrality do novej premennej \n",
    "\n",
    "- Použijte podmienku if na výber centralít v zadanom intervale \n",
    "\n",
    "- Ak je podmienka splnená: \n",
    "\n",
    "   - Premennú na počet zrážok zvýšte o 1 \n",
    "\n",
    "   - Vytvorte nový for cyklus, ktorý pôjde cez dĺžku poľa trackov v danej zrážke (all_tracks_list[i]) \n",
    "\n",
    "   - Do premennej track_pt uložte hybnosť častice ako float (použite kód float(all_tracks_list[i][l]))\n",
    "\n",
    "   - Pomocou podmienky if skontrolujte, či sa táto hybnosť nachádza v zadanom intervale \n",
    "\n",
    "   - Ak je táto podmienka splnená pripočítajte 1 k počtu trackov \n"
   ]
  },
  {
   "cell_type": "code",
   "execution_count": null,
   "id": "580e997b",
   "metadata": {
    "solution2": "hidden",
    "solution2_first": true
   },
   "outputs": [],
   "source": []
  },
  {
   "cell_type": "markdown",
   "id": "a365cd22",
   "metadata": {},
   "source": [
    "# Úloha 1.1: \n",
    "\n",
    "## Priemerný počet dráh v danej centralite a hybnostnom intervale v Pb-Pb v jednej zrážke\n",
    "\n",
    "- Vypočítajte priemerný počet dráh v jednej zrážke z premenných v predchádzajúcej bunke a uložte to do novej premennej\n",
    "\n",
    "- Nechajte túto hodnotu vypísať \n"
   ]
  },
  {
   "cell_type": "code",
   "execution_count": null,
   "id": "d5fcca0d",
   "metadata": {},
   "outputs": [],
   "source": []
  },
  {
   "cell_type": "markdown",
   "id": "055b0cbd",
   "metadata": {},
   "source": [
    "# Úloha 2: \n",
    "\n",
    "## Počet dráh v danom hybnostnom intervale v pp \n",
    "\n",
    "- Zopakujeme veľmi podobný postup ako pre Pb-Pb, kód môžte kopírovať a meniť \n",
    "\n",
    "## Úloha 2.1: \n",
    "\n",
    "- Načítajte dáta pre zrážky pp zo súboru data_pp.csv \n",
    "\n",
    "- Vytvorte polia centralities_list_pp a all_tracks_list_pp \n",
    "\n",
    "- Pomocou for cyklu cez centralities_pp pridajte zoznamy trackov do  centralities_list_pp a all_tracks_list_pp (rovnaký kód ako pr Pb-Pb)\n",
    "\n"
   ]
  },
  {
   "cell_type": "code",
   "execution_count": null,
   "id": "d423aa23",
   "metadata": {},
   "outputs": [],
   "source": []
  },
  {
   "cell_type": "markdown",
   "id": "0cf8c6ed",
   "metadata": {},
   "source": [
    "## Úloha 2.2: \n",
    "\n",
    "- Postupujte rovnako ako v úlohe 1 \n",
    "\n",
    "- Akú centralitu treba zadať pre pp zrážky? \n",
    "\n"
   ]
  },
  {
   "cell_type": "code",
   "execution_count": null,
   "id": "2ff8d539",
   "metadata": {},
   "outputs": [],
   "source": []
  },
  {
   "cell_type": "markdown",
   "id": "fb46954d",
   "metadata": {},
   "source": [
    "# Úloha 2.3: \n",
    "\n",
    "## Priemerný počet dráh v danom hybnostnom intervale v pp v jednej zrážke\n",
    "\n",
    "- Vypočítajte priemerný počet dráh v jednej zrážke z premenných v predchádzajúcej bunke a uložte to do novej premennej (podobne ako pre Pb-Pb)\n",
    "\n",
    "- Nechajte túto hodnotu vypísať \n"
   ]
  },
  {
   "cell_type": "code",
   "execution_count": null,
   "id": "f590547f",
   "metadata": {},
   "outputs": [],
   "source": []
  },
  {
   "cell_type": "markdown",
   "id": "c56a9f69",
   "metadata": {},
   "source": [
    "# Úloha 3: \n",
    "\n",
    "## Výpočet nukleárneho modifikačného faktora $R_{AA}$\n",
    "\n",
    "Na výpočet je potrebné poznať počet zrážok nukleón-nukleón pre danú centralitnú triedu (Ncoll), keďže nukleárny modifikačný faktor je definovaný ako:\n",
    "<span style=\"font-family:Papyrus; font-size:2.5em;\">\n",
    "<h1><center>$R_{AA} = \\frac{Y_{PbPb}} { N_{coll} Y_{pp} } $ </center></h1>\n",
    "</span>\n",
    "kde, $Y_{PbPb}$ môžeme nahradiť priemerným počtom dráh v zrážkach Pb-Pb a $Y_{pp}$ môžeme nahradiť priemerným počtom dráh v zrážkach pp. Hodnoty $N_{coll}$ sú uvedené v nasledujúcej tabuľke. Použite hodnotu pre zadanú centralitnú triedu a počty dráh na jednu zrážku v PbPb a pp z úlohy 1.1 a 2.3 a vypočítajte $R_{AA}$ \n",
    "<center><img src=\"./NColl.png\"/></center>"
   ]
  },
  {
   "cell_type": "code",
   "execution_count": null,
   "id": "a27a2457",
   "metadata": {},
   "outputs": [],
   "source": []
  }
 ],
 "metadata": {
  "kernelspec": {
   "display_name": "Python 3 (ipykernel)",
   "language": "python",
   "name": "python3"
  },
  "language_info": {
   "codemirror_mode": {
    "name": "ipython",
    "version": 3
   },
   "file_extension": ".py",
   "mimetype": "text/x-python",
   "name": "python",
   "nbconvert_exporter": "python",
   "pygments_lexer": "ipython3",
   "version": "3.13.1"
  }
 },
 "nbformat": 4,
 "nbformat_minor": 5
}
