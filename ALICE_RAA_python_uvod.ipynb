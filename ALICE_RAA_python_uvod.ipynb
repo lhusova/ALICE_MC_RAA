{
 "cells": [
  {
   "cell_type": "markdown",
   "metadata": {},
   "source": [
    "### Úvod do programovacieho jazyka PYTHON \n",
    "\n",
    "Jupyter Notebook pozostáva z viacerých buniek, ktoré môžu byť spúšťané samostatne. \n",
    "\n",
    "Bunku možno spustiť stlačením Shift + Enter alebo zvolením možnosti v menu: \"Cell->Run\", potom čo bola označená myšou.\n",
    "\n",
    "Celý notebook sa spustí pomocou možnosti v menu \"Cell->Run All\".  "
   ]
  },
  {
   "cell_type": "code",
   "execution_count": null,
   "metadata": {},
   "outputs": [],
   "source": [
    "print(\"Hello World!\")"
   ]
  },
  {
   "cell_type": "markdown",
   "metadata": {},
   "source": [
    "## Cvičenie 1:\n",
    "\n",
    "Je definovaná premenná b, ktorej hodnota je 5. Každú premennú vieme nechať vypísať pomocou funkcie print(). Ak by sme ako argument zadali type(b), táto funkcia by nám vypísala, aký je b typ premennej.\n",
    "\n",
    "Potom ako spustíte kód v nasledujúcej bunke, vypracujte nasledujúce úlohy, ktorých kód vložíte do tej istej bunky:\n",
    "\n",
    "- Definujte premennú 'a' a priraďte jej nejakú číselnú hodnotu\n",
    "\n",
    "- Definujte premennú 'text' a priraďte jej 'string'\n",
    "\n",
    "- Definujte premennú 'c' ako súčin 'a' a 'b' a nechajte vypísať výsledok pomocou funkcie  print(c).\n",
    "\n",
    "- Čo sa stane ak ?\n",
    "    - print(2 * a)\n",
    "    - print(2 * text)\n",
    "\n",
    "- Čo sa zmení pri použití nasledujúcich príkazov? (použite copy & paste)\n",
    "    - print(a + b)\n",
    "    - print('a+b')\n",
    "    - print(str(a) + '+' + str(b))\n",
    "    \n"
   ]
  },
  {
   "cell_type": "code",
   "execution_count": null,
   "metadata": {
    "solution2": "hidden",
    "solution2_first": true
   },
   "outputs": [],
   "source": [
    "b = 5\n",
    "print(b)"
   ]
  },
  {
   "cell_type": "markdown",
   "metadata": {},
   "source": [
    "# if else\n",
    "\n",
    "Pomocou príkazu 'if' môžu byť otestované podmienky, za ktorých sa má niečo konkrétne stať. \n",
    "\n",
    "Ak je daná podmienka splnená, teda je pravdivá, vykoná sa kód za podmienkou.\n",
    "\n",
    "Ak daná podmienka nie je splnená, teda je nepravdivá, je možné overiť iné podmienky pomocou príkazu 'elif'.\n",
    "\n",
    "Ak už nie je iná explicitná podmienka, ktorú možno overiť, vykoná sa kód za príkazom 'else' (presne vtedy, ak sú všetky predchádzajúce podmienky nepravdivé).\n",
    "\n",
    "## Cvičenie 2:\n",
    "Spustite nasledujúci kód a následne nastavte rôzne hodnoty pre premenné 'a' a 'b', aby ste si vyskúšali všetky možnosti:"
   ]
  },
  {
   "cell_type": "code",
   "execution_count": null,
   "metadata": {},
   "outputs": [],
   "source": [
    "\n",
    "if a>b:\n",
    "    print('a je väčšie ako b')\n",
    "elif a==b:\n",
    "    print('a a b sú rovnako veľké')\n",
    "else:\n",
    "    print('b je väčšie ako a')"
   ]
  },
  {
   "cell_type": "markdown",
   "metadata": {},
   "source": [
    "## Cvičenie 3:\n",
    "\n",
    "S pomocou \n",
    "\n",
    "vstup = input(\"Zadajte vstup pomocou klávesnice a potvrďte s Enter: \")\n",
    "\n",
    "požiadajte o dva vstupy a overte pomocou 'if/else' podmienky, či sú vstupy rovnaké.\n",
    "\n",
    "Ak áno, vypíšte \"Rovnaké vstupy\" inak \"Rozdielne vstupy\" "
   ]
  },
  {
   "cell_type": "code",
   "execution_count": null,
   "metadata": {},
   "outputs": [],
   "source": []
  },
  {
   "cell_type": "code",
   "execution_count": null,
   "metadata": {
    "solution2": "hidden",
    "solution2_first": true
   },
   "outputs": [],
   "source": [
    "vstup1 = input(\"Zadajte vstup pomocou klávesnice a potvrďte s Enter: \")\n",
    "vstup2 = input(\"Zadajte vstup pomocou klávesnice a potvrďte s Enter: \")\n",
    "\n",
    "print(vstup1, vstup2)"
   ]
  },
  {
   "cell_type": "markdown",
   "metadata": {
    "solution2": "hidden",
    "solution2_first": true
   },
   "source": [
    "## Spájanie podmienok\n",
    "\n",
    "Niekedy je potrebné urobiť výber na základe dvoch podmienok. Napríklad ak chceme časť kódu vykonať iba ak je číslo x v intervale od 1 do 20, tak potrebujeme splniť x < 20 a zároveň x > 1. \n",
    "\n",
    "V takomto prípade môžme použiť logický operátor AND alebo interval. Príklad nájdete v nasledujúcej bunke. Skúste zmeniť hodnoty vstupu. "
   ]
  },
  {
   "cell_type": "code",
   "execution_count": null,
   "metadata": {},
   "outputs": [],
   "source": [
    "d=10\n",
    "c=1\n",
    "\n",
    "if(d<20 and d>1):\n",
    "    print (\"d splna obe podmienky\")\n",
    "\n",
    "if(3<c<5):\n",
    "     print (\"c sa nachadza v intervale od 3 do 5\")\n"
   ]
  },
  {
   "cell_type": "markdown",
   "metadata": {},
   "source": [
    "# for loop\n",
    "\n",
    "Pomocou for cyklu môže byť časť kódu zopakovaná ľubovoľne veľa krát.\n",
    "\n",
    "## Cvičenie 4:\n",
    "\n",
    "Vyskúšajte nasledujúci kód\n",
    "\n",
    "    for i in range (0,15):\n",
    "        print(i**2)\n",
    "\n",
    "Čo sa stalo? Čo robí 'range(0,15)'? "
   ]
  },
  {
   "cell_type": "code",
   "execution_count": null,
   "metadata": {
    "solution2": "hidden",
    "solution2_first": true
   },
   "outputs": [],
   "source": []
  },
  {
   "cell_type": "markdown",
   "metadata": {},
   "source": [
    "## Cvičenie 5:\n",
    "\n",
    "Napíšte kód obsahujúci for cyklus a 'if/else' podmienku, kde necháte vypísať druhú mocninu čísel od 0 po 14 spolu s informáciou, či je dané číslo väčšie alebo menšie ako 100. Dávajte pozor na správne zarovnanie."
   ]
  },
  {
   "cell_type": "code",
   "execution_count": null,
   "metadata": {
    "solution2": "hidden",
    "solution2_first": true
   },
   "outputs": [],
   "source": []
  },
  {
   "cell_type": "markdown",
   "metadata": {},
   "source": [
    "# Polia:\n",
    "\n",
    "Pole je zoradenie premenných rovnakého typu, ktoré môže byť zavolané ako celok, alebo jednotlivé zložky samostatne. \n",
    "Pre zadanie polohy v rámci poľa sa začína počítať od 0. \n",
    "\n",
    "Poloha sa zadáva v hranatej zátvorke. Počet prvkov v poli vieme zistiť pomocou funkcie len(). Príklad v nasledujúcej bunke:"
   ]
  },
  {
   "cell_type": "code",
   "execution_count": null,
   "metadata": {},
   "outputs": [],
   "source": [
    "pole = [1, 1, 2, 3, 5, 8, 13, 21]\n",
    "\n",
    "print(pole)\n",
    "\n",
    "print(pole[6])\n",
    "\n",
    "pole[5] = 432\n",
    "\n",
    "print(pole)\n",
    "print('Dlzka pola:', len(pole))"
   ]
  },
  {
   "cell_type": "markdown",
   "metadata": {},
   "source": [
    "Polia môžu byť aj ľubovoľne vložené do seba:"
   ]
  },
  {
   "cell_type": "code",
   "execution_count": null,
   "metadata": {},
   "outputs": [],
   "source": [
    "pole2 = [ [1, 24, 5, 873, 37, 2] , [23, 6, 77, 84, 100, 22] ]\n",
    "\n",
    "print(pole2)\n",
    "\n",
    "print(pole2[0][2])\n",
    "\n",
    "pole2[0][3]=10\n",
    "\n",
    "print(pole2)"
   ]
  },
  {
   "cell_type": "markdown",
   "metadata": {},
   "source": [
    "## Cvičenie 6:\n",
    "\n",
    "Definujte pole ľubovoľnej dĺžky a urobte cyklus, ktorý prechádza cez všetky elementy v ňom. Ak je element v intervale od 2 do 10 pripočítakte k nemu 5. Na konci nechajte celé pole vypísať."
   ]
  },
  {
   "cell_type": "code",
   "execution_count": null,
   "metadata": {},
   "outputs": [],
   "source": []
  },
  {
   "cell_type": "markdown",
   "metadata": {},
   "source": [
    "## Cvičenie 7 (nepovinné):\n",
    "\n",
    "- Zadefinujte pole 'dni' pre všetky dni v týždni \n",
    "- Čo sa stane po zadaní nasledujúcich príkazov?:\n",
    "    - print(dni[0:3])\n",
    "    - print(dni[-3:])\n",
    "\n",
    "- Napíšte for cyklus a nechajte vypísať všetky dni v týždni \n",
    "    - ak sa deň končí na \"ok\", vypíšte navyše \"... končí na OK!\" "
   ]
  },
  {
   "cell_type": "code",
   "execution_count": null,
   "metadata": {
    "solution2": "hidden",
    "solution2_first": true
   },
   "outputs": [],
   "source": []
  },
  {
   "cell_type": "markdown",
   "metadata": {},
   "source": [
    "# Zobrazovanie grafov a histogramov:\n",
    "\n",
    "Nasledujúce knižnice sú vo všeobecnosti potrebné na zobrazovanie grafov a histogramov:"
   ]
  },
  {
   "cell_type": "code",
   "execution_count": null,
   "metadata": {},
   "outputs": [],
   "source": [
    "import numpy as np\n",
    "from matplotlib import pyplot as plt"
   ]
  },
  {
   "cell_type": "markdown",
   "metadata": {},
   "source": [
    "V tomto príklade vynesieme 6 hodnôt na x-ovú a y-ovú os. \n",
    "\n",
    "Pomocou príkazu fmt môžeme zmeniť farbu a štýl zobrazeného bodu.<br>\n",
    "r=red<br>\n",
    "g=green<br>\n",
    "y=yellow<br>\n",
    "m=magenta<br>\n",
    "k=black<br>\n",
    "c=cyan<br>\n",
    "w=white<br>\n",
    "b=blue<br>\n",
    "'.' \tpoint marker<br>\n",
    "',' \tpixel marker<br>\n",
    "'o' \tcircle marker<br>\n",
    "'v' \ttriangle_down marker<br>\n",
    "'^' \ttriangle_up marker<br>\n",
    "'<' \ttriangle_left marker<br>\n",
    "'>' \ttriangle_right marker<br>\n",
    "'1' \ttri_down marker<br>\n",
    "'2' \ttri_up marker<br>\n",
    "'3' \ttri_left marker<br>\n",
    "'4' \ttri_right marker<br>\n",
    "'s' \tsquare marker<br>\n",
    "'p' \tpentagon marker<br>\n",
    "'*' \tstar marker<br>\n",
    "'h' \thexagon1 marker<br>\n",
    "'H' \thexagon2 marker<br>\n",
    "'+' \tplus marker<br>\n",
    "'x' \tx marker<br>\n",
    "'D' \tdiamond marker<br>\n",
    "'d' \tthin_diamond marker<br>\n",
    "'|' \tvline marker<br>\n",
    "'_' \thline marker<br>"
   ]
  },
  {
   "cell_type": "code",
   "execution_count": null,
   "metadata": {},
   "outputs": [],
   "source": [
    "x = [1, 2, 3, 4, 5, 6]\n",
    "y = [1, 4, 9, 16, 25, 36]\n",
    "\n",
    "plt.errorbar(x, y, xerr=0.5, yerr=2, fmt='ro')\n",
    "plt.show()"
   ]
  },
  {
   "cell_type": "markdown",
   "metadata": {},
   "source": [
    "Pomocou Numpy je možné zobrazovať aj rôzne funkcie. V nasledujúcom príklade rovnomerne rozdelíme 50 hodnôt v intervale od 0 po 2*Pi a potom zobrazíme funkciu sin(x)."
   ]
  },
  {
   "cell_type": "code",
   "execution_count": null,
   "metadata": {},
   "outputs": [],
   "source": [
    "X = np.linspace(0, 2 * np.pi, 50, endpoint=True) # Zobrazenie hodnôt od 0 po 2*Pi\n",
    "F = np.sin(X)\n",
    "\n",
    "plt.plot(X,F, label='Sinus')\n",
    "plt.legend(loc='upper right')\n",
    "plt.show()"
   ]
  },
  {
   "cell_type": "markdown",
   "metadata": {},
   "source": [
    "Histogramy môžu byť tiež jednoducho zobrazené. \n",
    "\n",
    "Na to vygenerujeme 100000 náhodných čísel z normálneho rozdelenia a následne vynesieme počet jednotlivých hodnôt. \n",
    "Potom budú vygenerované hodnoty uložené do binov. \n",
    "Počet binov vieme ľubovoľne nastaviť, pričom šírka sa nastaví automaticky ako (max-min)/pocet.\n",
    "\n",
    "- Spustite nasledujúci kód\n",
    "    - Zvýšte 'size' o faktor 10. Čo sa stane? Kedy vieme pozorovať typický zvončekový tvar rozdelenia?"
   ]
  },
  {
   "cell_type": "code",
   "execution_count": null,
   "metadata": {},
   "outputs": [],
   "source": [
    "gaussian_numbers = np.random.normal(size=10)\n",
    "bins = 100\n",
    "\n",
    "plt.hist(gaussian_numbers, bins)\n",
    "\n",
    "plt.title(\"Gauss Histogram\")\n",
    "plt.xlabel(\"Hodnota\")\n",
    "plt.ylabel(\"Početnosť\")\n",
    "plt.show()"
   ]
  },
  {
   "cell_type": "code",
   "execution_count": null,
   "metadata": {},
   "outputs": [],
   "source": []
  }
 ],
 "metadata": {
  "kernelspec": {
   "display_name": "Python 3 (ipykernel)",
   "language": "python",
   "name": "python3"
  },
  "language_info": {
   "codemirror_mode": {
    "name": "ipython",
    "version": 3
   },
   "file_extension": ".py",
   "mimetype": "text/x-python",
   "name": "python",
   "nbconvert_exporter": "python",
   "pygments_lexer": "ipython3",
   "version": "3.13.1"
  }
 },
 "nbformat": 4,
 "nbformat_minor": 4
}
