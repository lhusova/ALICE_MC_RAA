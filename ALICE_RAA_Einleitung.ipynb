{
 "cells": [
  {
   "cell_type": "markdown",
   "metadata": {},
   "source": [
    "Jupyter Notebook pozostáva z viacerých buniek, ktoré môžu byť spúšťané samostatne. \n",
    "\n",
    "Bunku možno spustiť stlačním Shift + Enter alebo zvolením možnosti v menu: \"Cell->Run Cell\", potom čo bola označená myšou.\n",
    "\n",
    "Celý notebook sa spustí pomocou možnosti v menu \"Cell->Run All\".  "
   ]
  },
  {
   "cell_type": "code",
   "execution_count": null,
   "metadata": {},
   "outputs": [],
   "source": [
    "print(\"Hello World!\")"
   ]
  },
  {
   "cell_type": "markdown",
   "metadata": {},
   "source": [
    "## Cvičenie:\n",
    "\n",
    "Je definovaná premenná b, ktorej hodnota je 5. Každú premennú vieme nechať vypísať pomocou funkcie print(). Ak by sme ako argument zadali type(b), táto funkcia by nám vypísala, aký je b typ premennej..\n",
    "\n",
    "Potom ako sputíte kód, vypracujte nasledujúce úlohy, ktorých kód vložíte do tej istej bunky:\n",
    "\n",
    "- Definujte premennú 'a' a priraďte jej nejakú číselnú hodnotu\n",
    "\n",
    "- Definujte premennú 'text' a priraďte jej 'string'\n",
    "\n",
    "- Definujte premennú 'c' ako súčin 'a' a 'b' a nechjte vypísať výsledok pomocou funkcie  print(c).\n",
    "\n",
    "- Čo sa stane ak ?\n",
    "    - print(2 * a)\n",
    "    - print(2 * text)\n",
    "\n",
    "- Čo sa zmení pri použití nasledujúcich príkazov? (použite copy & paste)\n",
    "    - print(a + b)\n",
    "    - print('a+b')\n",
    "    - print(str(a) + '+' + str(b))\n",
    "    \n"
   ]
  },
  {
   "cell_type": "code",
   "execution_count": null,
   "metadata": {
    "solution2": "hidden",
    "solution2_first": true
   },
   "outputs": [],
   "source": [
    "b = 5\n",
    "print(b)"
   ]
  },
  {
   "cell_type": "code",
   "execution_count": null,
   "metadata": {
    "solution2": "hidden"
   },
   "outputs": [],
   "source": [
    "b = 5\n",
    "print(b)\n",
    "\n",
    "a = 3.2\n",
    "\n",
    "text = \"Hallo Welt!\"\n",
    "\n",
    "c = a * b\n",
    "\n",
    "print(c)\n",
    "\n",
    "print(2 * a)\n",
    "print(2 * text)\n",
    "\n",
    "print(a+b)\n",
    "print('a+b')\n",
    "print(str(a)+'+'+str(b))"
   ]
  },
  {
   "cell_type": "markdown",
   "metadata": {},
   "source": [
    "# if else\n",
    "\n",
    "Pomocou príkazu if môžu byť otestované podmienky, za ktorých sa má niečo konkrétne stať. \n",
    "\n",
    "Ak je daná podmienka splnená, teda je pravdivá, vykoná sa kód za podmienkou.\n",
    "\n",
    "Ak daná podmienka nie je splnená, teda je neprevdivá, je možné overiť iné podmienky pomocou príkazu 'elif'.\n",
    "\n",
    "Ak už nie je iná explicitná podmienka, ktorú možno overiť, vy koná sa kód za príkazom else (presne vtedy, ak sú všetky predchádzajúce podmienky nepravdivé).\n",
    "\n",
    "## Cvičenie:\n",
    "Spusti naslednujúci kód a následne nastav rôzne hodnoty pre premenné 'a' a 'b', aby si vyskúšal vštky možnosti:"
   ]
  },
  {
   "cell_type": "code",
   "execution_count": null,
   "metadata": {},
   "outputs": [],
   "source": [
    "\n",
    "if a>b:\n",
    "    print('a je väčšie ako  b')\n",
    "elif a==b:\n",
    "    print('a a b ssú rovnako veľké')\n",
    "else:\n",
    "    print('b je väčšie ako a')"
   ]
  },
  {
   "cell_type": "markdown",
   "metadata": {
    "solution2": "hidden",
    "solution2_first": true
   },
   "source": [
    " "
   ]
  },
  {
   "cell_type": "code",
   "execution_count": null,
   "metadata": {
    "scrolled": true,
    "solution2": "hidden"
   },
   "outputs": [],
   "source": [
    "# definuj a a b nanovo:\n",
    "\n",
    "a = 4\n",
    "b = 4\n",
    "\n",
    "if a>b:\n",
    "    print('a je väčšie ako b')\n",
    "elif a==b:\n",
    "    print('a a b sú rovnako veľké')\n",
    "else:\n",
    "    print('b je väčšie ako a')"
   ]
  },
  {
   "cell_type": "markdown",
   "metadata": {},
   "source": [
    "## Cvičenie:\n",
    "\n",
    "S pomocou \n",
    "\n",
    "vstup = input(\"Zadajte vstup pomocou klávesnice a potvrďte s Enter: \")\n",
    "\n",
    "požiadaj o dva vstupy a over pomocou if/else podmienky, či sú vstupy rovnaké.\n",
    "\n",
    "Ak áno, vypíš \"Rovnaké Vstupy\" inak \"Rozdielne Vstupy\""
   ]
  },
  {
   "cell_type": "code",
   "execution_count": null,
   "metadata": {
    "solution2": "hidden",
    "solution2_first": true
   },
   "outputs": [],
   "source": [
    "vstup1 = input(\"Zadajte vstup pomocou klávesnice a potvrďte s Enter: \")\n",
    "vstup2 = input(\"Zadajte vstup pomocou klávesnice a potvrďte s Enter: \")\n",
    "\n",
    "print(vstup1, vstup2)"
   ]
  },
  {
   "cell_type": "code",
   "execution_count": null,
   "metadata": {
    "solution2": "hidden"
   },
   "outputs": [],
   "source": [
    "vstup1 = input(\"Zadajte vstup pomocou klávesnice a potvrďte s Enter: \")\n",
    "vstup2 = input(\"Zadajte vstup pomocou klávesnice a potvrďte s Enter: \")\n",
    "\n",
    "print(vstup1, vstup2)\n",
    "\n",
    "if( vstup1 == vstup2):\n",
    "    print(\"Rovnaké Vstupy\")\n",
    "else:\n",
    "    print(\"Rozdielne Vstupy\")"
   ]
  },
  {
   "cell_type": "markdown",
   "metadata": {},
   "source": [
    "# for loop\n",
    "\n",
    "Pomocou for cyklu môže byť časť kódu zopakovaná ľubovoľne veľa krát.\n",
    "\n",
    "## Cvičenie:\n",
    "\n",
    "Vyskúšaj nasledujúci kód\n",
    "\n",
    "    for i in range (0,15):\n",
    "        print(i**2)\n",
    "\n",
    "Čo sa stalo? Čo robí 'range(0,15)'?"
   ]
  },
  {
   "cell_type": "code",
   "execution_count": null,
   "metadata": {
    "solution2": "hidden",
    "solution2_first": true
   },
   "outputs": [],
   "source": []
  },
  {
   "cell_type": "code",
   "execution_count": null,
   "metadata": {
    "solution2": "hidden"
   },
   "outputs": [],
   "source": [
    "for i in range (0,15):\n",
    "       print(i**2)\n",
    "\n",
    "print('range:')\n",
    "x = range(0,15)\n",
    "print(len(x))\n",
    "print(x[0])\n",
    "print(x[1])\n",
    "print(x[14])"
   ]
  },
  {
   "cell_type": "markdown",
   "metadata": {},
   "source": [
    "## Cvičenie:\n",
    "\n",
    "Napíš kód obsahujúci for cyklus a if/else podmienku, kde necháš vypísať druhú mocninu čísel od 0 po 14 spolu s informáciou, či je dané číslo väčšie alebo menšie ako 100. Dávaj pozor na správne zarovnanie."
   ]
  },
  {
   "cell_type": "code",
   "execution_count": null,
   "metadata": {
    "solution2": "hidden",
    "solution2_first": true
   },
   "outputs": [],
   "source": []
  },
  {
   "cell_type": "code",
   "execution_count": null,
   "metadata": {
    "solution2": "hidden"
   },
   "outputs": [],
   "source": [
    "for i in range(0,15):\n",
    "    quadrat = i**2\n",
    "    if( quadrat > 100 ):\n",
    "        print(str(quadrat) + \" je väčšie ako 100!\")\n",
    "    elif ( quadrat < 100):\n",
    "        print(str(quadrat) + \" je menšie ako 100!\")\n",
    "    else:\n",
    "        print(str(quadrat) + \" je rovné 100!\")"
   ]
  },
  {
   "cell_type": "markdown",
   "metadata": {},
   "source": [
    "# Polia:\n",
    "\n",
    "Pole je zoradenie premenných rovnakého typu, ktorý môže byť zavolaný ako celok, alebo jednotlivé zložky samostatne. \n",
    "Pre zadanie polohy vrámci poľa sa začína počítať od 0. \n",
    "\n",
    "Poloha sa zadáva v hranatej zátvorke. Príklad v nasledujúcej bunke:"
   ]
  },
  {
   "cell_type": "code",
   "execution_count": null,
   "metadata": {},
   "outputs": [],
   "source": [
    "pole = [1, 1, 2, 3, 5, 8, 13, 21]\n",
    "\n",
    "print(pole)\n",
    "\n",
    "print(pole[6])\n",
    "\n",
    "pole[5] = 432\n",
    "\n",
    "print(pole)"
   ]
  },
  {
   "cell_type": "markdown",
   "metadata": {},
   "source": [
    "Polia môžu byť aj ľubovľne vložené do seba:"
   ]
  },
  {
   "cell_type": "code",
   "execution_count": null,
   "metadata": {},
   "outputs": [],
   "source": [
    "pole2 = [ [1, 24, 5, 873, 37, 2] , [23, 6, 77, 84, 100, 22] ]\n",
    "\n",
    "print(pole2)\n",
    "\n",
    "print(pole2[0][2])\n",
    "\n",
    "pole2[0][3]=10\n",
    "\n",
    "print(pole2)"
   ]
  },
  {
   "cell_type": "markdown",
   "metadata": {},
   "source": [
    "## Cvičenie:\n",
    "\n",
    "- Zadefinuj pole 'dni' pre všetky dni v týždni \n",
    "- Čo sa stane po zadaní nasledjúcich príkazov?:\n",
    "    - print(dni[0:3])\n",
    "    - print(dni[-3:])\n",
    "    \n",
    "- Napíš for cyklus a nechaj vypísať všetky dni v týždni \n",
    "    - ak je deň končí na \'ok'\, vypíšte navyše \"... končí na OK!\""
   ]
  },
  {
   "cell_type": "code",
   "execution_count": null,
   "metadata": {
    "solution2": "hidden",
    "solution2_first": true
   },
   "outputs": [],
   "source": []
  },
  {
   "cell_type": "code",
   "execution_count": null,
   "metadata": {
    "solution2": "hidden"
   },
   "outputs": [],
   "source": [
    "dni = [\"pondelok\", \"utorok\", \"streda\", \"stvrtok\", \"piatok\", \"sobota\", \"nedela\"]\n",
    "\n",
    "print(dni[0:3])\n",
    "print(dni[-3:])\n",
    "\n",
    "for z in dni:\n",
    "    print(z)\n",
    "    if( z[-ľ:] == \"ok\"):\n",
    "        print(\"...končí na OK!\")"
   ]
  },
  {
   "cell_type": "markdown",
   "metadata": {},
   "source": [
    "# Zobrazovanie grafov a histogramov:\n",
    "\n",
    "Nasledujúce knižnice sú vo všeobecnosti potrebné na zobrazovanie grafov a histogramov:"
   ]
  },
  {
   "cell_type": "code",
   "execution_count": null,
   "metadata": {},
   "outputs": [],
   "source": [
    "import numpy as np\n",
    "from matplotlib import pyplot as plt"
   ]
  },
  {
   "cell_type": "markdown",
   "metadata": {},
   "source": [
    "V tomto príklade vynesieme 6 hodnôt na x-ovú a y-ovú os. \n",
    "\n",
    "Pomocou príkazu fmt môžme zmeniť farbu a štýl zobrazeného bodu.<br>\n",
    "r=cerveba<br>\n",
    "g=zelena<br>\n",
    "y=zlta<br>\n",
    "m=magenta<br>\n",
    "k=cierna<br>\n",
    "c=cyan<br>\n",
    "w=biela<br>\n",
    "b=modra<br>\n",
    "'.' \tpoint marker<br>\n",
    "',' \tpixel marker<br>\n",
    "'o' \tcircle marker<br>\n",
    "'v' \ttriangle_down marker<br>\n",
    "'^' \ttriangle_up marker<br>\n",
    "'<' \ttriangle_left marker<br>\n",
    "'>' \ttriangle_right marker<br>\n",
    "'1' \ttri_down marker<br>\n",
    "'2' \ttri_up marker<br>\n",
    "'3' \ttri_left marker<br>\n",
    "'4' \ttri_right marker<br>\n",
    "'s' \tsquare marker<br>\n",
    "'p' \tpentagon marker<br>\n",
    "'*' \tstar marker<br>\n",
    "'h' \thexagon1 marker<br>\n",
    "'H' \thexagon2 marker<br>\n",
    "'+' \tplus marker<br>\n",
    "'x' \tx marker<br>\n",
    "'D' \tdiamond marker<br>\n",
    "'d' \tthin_diamond marker<br>\n",
    "'|' \tvline marker<br>\n",
    "'_' \thline marker<br>"
   ]
  },
  {
   "cell_type": "code",
   "execution_count": null,
   "metadata": {},
   "outputs": [],
   "source": [
    "x = [1, 2, 3, 4, 5, 6]\n",
    "y = [1, 4, 9, 16, 25, 36]\n",
    "\n",
    "plt.errorbar(x, y, xerr=0.5, yerr=2, fmt='ro')\n",
    "plt.show()"
   ]
  },
  {
   "cell_type": "markdown",
   "metadata": {},
   "source": [
    "Pomocou Numpy je mopžné zobrazovať aj rôzne funkcie. V nasledujúcom príklade rovnomerne rozdelíme 50 hodnôt v intervale 0 až 2*Pi a potom zobrazíme funkciu sin(x)."
   ]
  },
  {
   "cell_type": "code",
   "execution_count": null,
   "metadata": {},
   "outputs": [],
   "source": [
    "X = np.linspace(0, 2 * np.pi, 50, endpoint=True) # Zobrazenie hodnôt od 0 po 2*Pi\n",
    "F = np.sin(X)\n",
    "\n",
    "plt.plot(X,F, label='Sinus')\n",
    "plt.legend(loc='upper right')\n",
    "plt.show()"
   ]
  },
  {
   "cell_type": "markdown",
   "metadata": {},
   "source": [
    "Histogramy môžu byť tiež jednoducho zobrazené. \n",
    "\n",
    "Na to vygenerujeme 100000 náhodných čísel z normálneho rozdelenia a následne vynesieme počet jednotlivých hodnôt. \n",
    "Na to budú vygenerované hodnoty uložené do binov. \n",
    "Počet binov vieme ľubovoľne nastaviť, pričom šírka sa nastvaí automaticky ako (max-min)/pocet.\n",
    "\n",
    "- Spusti nasledujúci kód\n",
    "    - Zvýš 'size' o faktor 10. Čo sa stane? Kedy vieme pozorovať typický zvončekový tvar rozdelenia?"
   ]
  },
  {
   "cell_type": "code",
   "execution_count": null,
   "metadata": {},
   "outputs": [],
   "source": [
    "gaussian_numbers = np.random.normal(size=10)\n",
    "bins = 100\n",
    "\n",
    "plt.hist(gaussian_numbers, bins)\n",
    "\n",
    "plt.title(\"Gauß Histogram\")\n",
    "plt.xlabel(\"Hodnota\")\n",
    "plt.ylabel(\"Početnosť\")\n",
    "plt.show()"
   ]
  },
  {
   "cell_type": "code",
   "execution_count": null,
   "metadata": {},
   "outputs": [],
   "source": []
  }
 ],
 "metadata": {
  "kernelspec": {
   "display_name": "Python 3",
   "language": "python",
   "name": "python3"
  },
  "language_info": {
   "codemirror_mode": {
    "name": "ipython",
    "version": 3
   },
   "file_extension": ".py",
   "mimetype": "text/x-python",
   "name": "python",
   "nbconvert_exporter": "python",
   "pygments_lexer": "ipython3",
   "version": "3.6.9"
  }
 },
 "nbformat": 4,
 "nbformat_minor": 4
}
