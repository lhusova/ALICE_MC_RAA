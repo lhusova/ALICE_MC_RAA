{
 "cells": [
  {
   "cell_type": "markdown",
   "id": "93e850a0",
   "metadata": {},
   "source": [
    "# Riešenia k ALICE_RAA kratke \n",
    "\n",
    "Vitajte pri skátenej verzii výpočtu R_{AA}! \n",
    "\n",
    "Najprv načítame balíčky potrebné pre analýzu dát.\""
   ]
  },
  {
   "cell_type": "code",
   "execution_count": 1,
   "id": "e588cdc7",
   "metadata": {},
   "outputs": [],
   "source": [
    "import numpy as np\n",
    "import math \n",
    "import pandas as pd\n",
    "centralities = pd.read_csv(\"data_PbPb.csv\", usecols=['centrality'])\n",
    "tracks = pd.read_csv(\"data_PbPb.csv\", usecols=['tracks'])\n",
    "\n",
    "# Vytvoríme prázdny zoznam pre tracky\n",
    "all_tracks_list = []\n",
    "\n",
    "for k in range(len(centralities)):\n",
    "    # Vymažeme zátvorky aby boli polia kompatibilné s Pythonom\n",
    "    alltracks = tracks.values[k][0].replace(\"[\", \"\").replace(\"]\", \"\")\n",
    "    temptrack = alltracks.split(\", \")\n",
    "\n",
    "    # Odfiltrujeme prázdne riadky\n",
    "    temptrack = [t for t in temptrack if t != '']\n",
    "    \n",
    "    # Pridáme temptrack-item do all_tracks_list\n",
    "    all_tracks_list.append(temptrack)"
   ]
  },
  {
   "cell_type": "markdown",
   "id": "27374a80",
   "metadata": {},
   "source": [
    "## Čiastočné riešenie k úlohe 1: \n"
   ]
  },
  {
   "cell_type": "code",
   "execution_count": null,
   "id": "8ed87a83",
   "metadata": {
    "solution2": "hidden"
   },
   "outputs": [],
   "source": [
    "# TODO: Premenná 1 pre počet zrážok\n",
    "\n",
    "# TODO: Premenná 2 pre počet trackov\n",
    "\n",
    "for i in range(len(centralities)):\n",
    "    cent = centralities.values[i]\n",
    "    if 80 < cent < 100: #výber centralitnej triedy:    \n",
    "        print(\"hello\")    \n",
    "        # TODO: Zvýšte Premennú 1 (+1)\n",
    "            \n",
    "        for l in range(len(all_tracks_list[i])):\n",
    "            \n",
    "            track_pt = float(all_tracks_list[i][l])\n",
    "            \n",
    "            # TODO: Prispôsobte pre váš špecifický interval:\n",
    "            if 0 < track_pt < 1:\n",
    "                print(\"track\")\n",
    "                # TODO: print() Akú priečnu hybnosť má tento track?\n",
    "                # TODO: Zvýšte Premennú 2 (+1)"
   ]
  },
  {
   "cell_type": "markdown",
   "id": "c293107b",
   "metadata": {},
   "source": [
    "## Celé riešenie k úlohe 1:"
   ]
  },
  {
   "cell_type": "code",
   "execution_count": null,
   "id": "2ba6d8cd",
   "metadata": {
    "solution2": "hidden"
   },
   "outputs": [],
   "source": [
    "n_events = 0\n",
    "n_tracks = 0\n",
    "\n",
    "for i in range(len(centralities)):\n",
    "    cent = centralities.values[i]\n",
    "    if 0 < cent < 10: \n",
    "        n_events = n_events + 1\n",
    "            \n",
    "        for l in range(len(all_tracks_list[i])):\n",
    "            track_pt = float(all_tracks_list[i][l])\n",
    "            if 10 < track_pt < 12:\n",
    "                print(\"Priečna hybnosť: \", track_pt) \n",
    "                n_tracks = n_tracks +1"
   ]
  },
  {
   "cell_type": "markdown",
   "id": "da58f75e",
   "metadata": {},
   "source": [
    "## Riešenie pre úlohu 1.1: \n",
    "\n"
   ]
  },
  {
   "cell_type": "code",
   "execution_count": null,
   "id": "7271c33c",
   "metadata": {},
   "outputs": [],
   "source": [
    "pbpb_var = n_tracks/n_events \n",
    "print(\"Tracks per Event: \", pbpb_var) \n"
   ]
  },
  {
   "cell_type": "markdown",
   "id": "f3bee916",
   "metadata": {},
   "source": [
    "## Riešenie pre úlohu 2.1: \n",
    "\n"
   ]
  },
  {
   "cell_type": "code",
   "execution_count": null,
   "id": "bef65c6c",
   "metadata": {},
   "outputs": [],
   "source": [
    "# Load Data \n",
    "centralities_pp = pd.read_csv(\"data_pp.csv\", usecols=['centrality'])\n",
    "tracks_pp = pd.read_csv(\"data_pp.csv\", usecols=['tracks'])\n",
    "\n",
    "# Initialize an empty list for the tracks\n",
    "all_tracks_list_pp = []\n",
    "\n",
    "for k in range(len(centralities_pp)):\n",
    "    # Delete Brackets and make the Data compatible with python\n",
    "    alltracks = tracks_pp.values[k][0].replace(\"[\", \"\").replace(\"]\", \"\")\n",
    "    temptrack = alltracks.split(\", \")\n",
    "\n",
    "    # Filter out empty strings\n",
    "    temptrack = [t for t in temptrack if t != '']\n",
    "    \n",
    "    # add temptrack-item to all_tracks_list\n",
    "    all_tracks_list_pp.append(temptrack)"
   ]
  },
  {
   "cell_type": "markdown",
   "id": "a187f4ed",
   "metadata": {},
   "source": [
    "## Riešenie pre úlohu 2.2: \n",
    "\n"
   ]
  },
  {
   "cell_type": "code",
   "execution_count": null,
   "id": "31b50a34",
   "metadata": {},
   "outputs": [],
   "source": [
    "# Variable 1 for Events\n",
    "n_events_pp = 0\n",
    "\n",
    "# Variable 2 for Tracks\n",
    "n_tracks_pp = 0\n",
    "\n",
    "# This time we dont print out each track to save time and make it easier for us to read the Notebook.\n",
    "\n",
    "for i in range(len(centralities_pp)):\n",
    "    cent = centralities_pp.values[i]\n",
    "    if 0 < cent < 100: #select centralities:    \n",
    "         \n",
    "        n_events_pp = n_events_pp + 1\n",
    "            \n",
    "        for l in range(len(all_tracks_list_pp[i])):\n",
    "            # Transverse momentum for each track: track_pt\n",
    "            track_pt = float(all_tracks_list[i][l])\n",
    "            if 10 < track_pt < 12:\n",
    "                # It's easier to just show the Momentum for the specific events to keep it short\n",
    "                print(\"Event: \", i)  \n",
    "                print(\"Transverse Momentum: \", track_pt) \n",
    "                n_tracks_pp = n_tracks_pp +1"
   ]
 },
 {
  "cell_type": "markdown",
  "id": "a187f4ed",
  "metadata": {},
  "source": [
   "## Riešenie pre úlohu 2.3: \n",
   "\n"
  ]
 },
 {
  "cell_type": "code",
  "execution_count": null,
  "id": "7271c33c",
  "metadata": {},
  "outputs": [],
  "source": [
   "pp_var = n_tracks_pp/n_events_pp \n",
   "print(\"Tracks per Event: \", pp_var) \n"
  ]
 },
 {
  "cell_type": "markdown",
  "metadata": {},
  "source": [
   "## Riešenie pre úlohu 3: \n",
   "\n"
  ]
 },
 {
  "cell_type": "code",
  "execution_count": null,
  "id": "7271c33c",
  "metadata": {},
  "outputs": [],
  "source": [
   "print(\"R_AA: \", (pbpb_var)/(1600*pp_var)) \n"
  ]
 }
 ],
 "metadata": {
  "kernelspec": {
   "display_name": "Python 3",
   "language": "python",
   "name": "python3"
  },
  "language_info": {
   "codemirror_mode": {
    "name": "ipython",
    "version": 3
   },
   "file_extension": ".py",
   "mimetype": "text/x-python",
   "name": "python",
   "nbconvert_exporter": "python",
   "pygments_lexer": "ipython3",
   "version": "3.11.9"
  }
 },
 "nbformat": 4,
 "nbformat_minor": 5
}
