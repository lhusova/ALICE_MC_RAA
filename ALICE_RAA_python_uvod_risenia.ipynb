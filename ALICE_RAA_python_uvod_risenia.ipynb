{
 "cells": [
  {
   "cell_type": "markdown",
   "metadata": {},
   "source": [
    "Jupyter Notebook pozostáva z viacerých buniek, ktoré môžu byť spúšťané samostatne. \n",
    "\n",
    "Bunku možno spustiť stlačením Shift + Enter alebo zvolením možnosti v menu: \"Cell->Run\", potom čo bola označená myšou.\n",
    "\n",
    "Celý notebook sa spustí pomocou možnosti v menu \"Cell->Run All\".  \n",
    "\n",
    "V tomto notebooku nájdete riešenia k úvodu do PYTHONu."
   ]
  },
  {
   "cell_type": "code",
   "execution_count": null,
   "metadata": {},
   "outputs": [],
   "source": [
    "print(\"Hello World!\")"
   ]
  },
  {
   "cell_type": "markdown",
   "metadata": {},
   "source": [
    "## Riešenie Cvičenie 1:\n",
    "\n"
   ]
  },
  {
   "cell_type": "code",
   "execution_count": null,
   "metadata": {
    "solution2": "hidden"
   },
   "outputs": [],
   "source": [
    "b = 5\n",
    "print(b)\n",
    "\n",
    "a = 3.2\n",
    "\n",
    "text = \"Hello World!\"\n",
    "\n",
    "c = a * b\n",
    "\n",
    "print(c)\n",
    "\n",
    "print(2 * a)\n",
    "print(2 * text)\n",
    "\n",
    "print(a+b)\n",
    "print('a+b')\n",
    "print(str(a)+'+'+str(b))"
   ]
  },
  {
   "cell_type": "markdown",
   "metadata": {},
   "source": [
    "## Riešenie Cvičenie 2:\n"
   ]
  },
  {
   "cell_type": "code",
   "execution_count": null,
   "metadata": {
    "scrolled": true,
    "solution2": "hidden"
   },
   "outputs": [],
   "source": [
    "# definuj a a b nanovo:\n",
    "\n",
    "a = 4\n",
    "b = 4\n",
    "\n",
    "if a>b:\n",
    "    print('a je väčšie ako b')\n",
    "elif a==b:\n",
    "    print('a a b sú rovnako veľké')\n",
    "else:\n",
    "    print('b je väčšie ako a')"
   ]
  },
  {
   "cell_type": "markdown",
   "metadata": {},
   "source": [
    "## Riešenie Cvičenie 3:\n"
   ]
  },
  {
   "cell_type": "code",
   "execution_count": null,
   "metadata": {
    "solution2": "hidden"
   },
   "outputs": [],
   "source": [
    "vstup1 = input(\"Zadajte vstup pomocou klávesnice a potvrďte s Enter: \")\n",
    "vstup2 = input(\"Zadajte vstup pomocou klávesnice a potvrďte s Enter: \")\n",
    "\n",
    "print(vstup1, vstup2)\n",
    "\n",
    "if( vstup1 == vstup2):\n",
    "    print(\"Rovnaké vstupy\")\n",
    "else:\n",
    "    print(\"Rozdielne vstupy\")"
   ]
  },
  {
   "cell_type": "markdown",
   "metadata": {},
   "source": [
    "## Riešenie Cvičenie 4:\n",
    "\n"
   ]
  },
  {
   "cell_type": "code",
   "execution_count": null,
   "metadata": {
    "solution2": "hidden"
   },
   "outputs": [],
   "source": [
    "for i in range (0,15):\n",
    "       print(i**2)\n",
    "\n",
    "print('range:')\n",
    "x = range(0,15)\n",
    "print(len(x))\n",
    "print(x[0])\n",
    "print(x[1])\n",
    "print(x[14])"
   ]
  },
  {
   "cell_type": "markdown",
   "metadata": {},
   "source": [
    "## Riešenie Cvičenie 5:\n"
   ]
  },
  {
   "cell_type": "code",
   "execution_count": null,
   "metadata": {
    "solution2": "hidden"
   },
   "outputs": [],
   "source": [
    "for i in range(0,15):\n",
    "    quadrat = i**2\n",
    "    if( quadrat > 100 ):\n",
    "        print(str(quadrat) + \" je väčšie ako 100\")\n",
    "    elif ( quadrat < 100):\n",
    "        print(str(quadrat) + \" je menšie ako 100\")\n",
    "    else:\n",
    "        print(str(quadrat) + \" je rovné 100\")"
   ]
  },
  {
   "cell_type": "markdown",
   "metadata": {},
   "source": [
    "## Riešenie Cvičenie 6:\n"
   ]
  },
  {
   "cell_type": "code",
   "execution_count": null,
   "metadata": {
    "solution2": "hidden"
   },
   "outputs": [],
   "source": [
    "dni = [\"pondelok\", \"utorok\", \"streda\", \"stvrtok\", \"piatok\", \"sobota\", \"nedela\"]\n",
    "\n",
    "print(dni[0:3])\n",
    "print(dni[-3:])\n",
    "\n",
    "for z in dni:\n",
    "    print(z)\n",
    "    if( z[-2:] == \"ok\"):\n",
    "        print(\"...končí na OK!\")"
   ]
  }
 ],
 "metadata": {
  "kernelspec": {
   "display_name": "Python 3",
   "language": "python",
   "name": "python3"
  },
  "language_info": {
   "codemirror_mode": {
    "name": "ipython",
    "version": 3
   },
   "file_extension": ".py",
   "mimetype": "text/x-python",
   "name": "python",
   "nbconvert_exporter": "python",
   "pygments_lexer": "ipython3",
   "version": "3.9"
  }
 },
 "nbformat": 4,
 "nbformat_minor": 4
}
